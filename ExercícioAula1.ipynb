{
  "nbformat": 4,
  "nbformat_minor": 0,
  "metadata": {
    "colab": {
      "provenance": [],
      "authorship_tag": "ABX9TyOD+mG+t/Txzu3pFxOAPgTC",
      "include_colab_link": true
    },
    "kernelspec": {
      "name": "python3",
      "display_name": "Python 3"
    },
    "language_info": {
      "name": "python"
    }
  },
  "cells": [
    {
      "cell_type": "markdown",
      "metadata": {
        "id": "view-in-github",
        "colab_type": "text"
      },
      "source": [
        "<a href=\"https://colab.research.google.com/github/daniellekarlas/MLSENAC_Danielle/blob/main/Exerc%C3%ADcioAula1.ipynb\" target=\"_parent\"><img src=\"https://colab.research.google.com/assets/colab-badge.svg\" alt=\"Open In Colab\"/></a>"
      ]
    },
    {
      "cell_type": "markdown",
      "source": [
        "Questão 1"
      ],
      "metadata": {
        "id": "1ErC5PvF5fCn"
      }
    },
    {
      "cell_type": "code",
      "source": [
        "a=3\n",
        "b=4\n",
        "soma=a+b\n",
        "print(\"A soma de a+b é: soma\")"
      ],
      "metadata": {
        "colab": {
          "base_uri": "https://localhost:8080/"
        },
        "id": "Sb0wprtN5kq4",
        "outputId": "35d97f3c-bc6f-40ea-ec6f-24f7d8986f79"
      },
      "execution_count": 4,
      "outputs": [
        {
          "output_type": "stream",
          "name": "stdout",
          "text": [
            "A soma de a+b é: soma\n"
          ]
        }
      ]
    },
    {
      "cell_type": "markdown",
      "source": [
        "Na questão 1, a função print retornou uma string com o texto \"A soma de a + b é: soma\"\". Isso ocorreu pq colocamos a variável soma dentro das aspas e o python entendeu que isso seria string e não uma variável (que não precisa estar dentro das aspas). Para que o código pudesse retornar o resultado da soma, o correto seria:\n",
        "\n",
        "a=3\n",
        "b=4\n",
        "soma=a+b\n",
        "print(\"A soma de a+b é:\", soma)\n",
        "\n"
      ],
      "metadata": {
        "id": "D3QHdUX-7W30"
      }
    },
    {
      "cell_type": "markdown",
      "source": [
        "Questão 2"
      ],
      "metadata": {
        "id": "XzsZmrsW8VWo"
      }
    },
    {
      "cell_type": "code",
      "source": [
        "a= 3\n",
        "b= 4\n",
        "soma = a + b\n",
        "print(\"A soma de a + b é:\", soma)"
      ],
      "metadata": {
        "colab": {
          "base_uri": "https://localhost:8080/"
        },
        "id": "qIAMvKYP8XXz",
        "outputId": "7fea9118-f555-427b-c5d0-420f06c363f0"
      },
      "execution_count": 5,
      "outputs": [
        {
          "output_type": "stream",
          "name": "stdout",
          "text": [
            "A soma de a + b é: 7\n"
          ]
        }
      ]
    },
    {
      "cell_type": "markdown",
      "source": [
        "Na questão 2, a função print conseguiu retornar o valor da variável soma. Pois, informamos a string dentro das aspas e e incluímos a variável (soma=a+b)separada por virgula. "
      ],
      "metadata": {
        "id": "T93mAZd88dP8"
      }
    },
    {
      "cell_type": "markdown",
      "source": [
        "Questão 3"
      ],
      "metadata": {
        "id": "Fo2w1PT-9Czq"
      }
    },
    {
      "cell_type": "code",
      "source": [
        "a= 3\n",
        "b= 4\n",
        "soma = a + b\n",
        "print(\"A soma de\", a, \"+\", b, \"é:\", soma)"
      ],
      "metadata": {
        "colab": {
          "base_uri": "https://localhost:8080/"
        },
        "id": "7u8BgpgV9EXR",
        "outputId": "61a7fac4-de45-40e4-a80d-56f38e9b65a8"
      },
      "execution_count": 6,
      "outputs": [
        {
          "output_type": "stream",
          "name": "stdout",
          "text": [
            "A soma de 3 + 4 é: 7\n"
          ]
        }
      ]
    },
    {
      "cell_type": "markdown",
      "source": [
        "Na questão 3, com a função print conseguimos incluir as strings dentro das aspas, e informar separando por vírgula as variáveis."
      ],
      "metadata": {
        "id": "RYtBDWtT9NMP"
      }
    },
    {
      "cell_type": "markdown",
      "source": [
        "Questão 4"
      ],
      "metadata": {
        "id": "plXUFtIM9XN5"
      }
    },
    {
      "cell_type": "code",
      "source": [
        "PROMPT_1 = \"Digite o primeiro numero: \"\n",
        "PROMPT_2 = \"Digite o segundo numero: \"\n",
        "a = input(PROMPT_1)\n",
        "b = input(PROMPT_2)\n",
        "\n",
        "soma = a + b\n",
        "print(\"A soma de\", a, \"+\", b, \"é:\", soma)"
      ],
      "metadata": {
        "colab": {
          "base_uri": "https://localhost:8080/"
        },
        "id": "SiK0I1pY9Yje",
        "outputId": "f2f5bd47-b237-4d4e-c7f9-5293e44b6746"
      },
      "execution_count": 8,
      "outputs": [
        {
          "output_type": "stream",
          "name": "stdout",
          "text": [
            "Digite o primeiro numero: 10\n",
            "Digite o segundo numero: 15\n",
            "A soma de 10 + 15 é: 1015\n"
          ]
        }
      ]
    },
    {
      "cell_type": "markdown",
      "source": [
        "Na questão 4, o default do python é receber por input as informações como string. Nesse caso, ele juntou as duas informações armazenadas em a e b, como se fossem texto. Para receber como valores inteiros temos que incluir a função int para transformar. "
      ],
      "metadata": {
        "id": "TEOsuNRt9rPH"
      }
    },
    {
      "cell_type": "markdown",
      "source": [
        "Questão 5"
      ],
      "metadata": {
        "id": "NCKnlWSU-KmQ"
      }
    },
    {
      "cell_type": "code",
      "source": [
        "a_str = input(\"Digite o primeiro numero: \")\n",
        "b_str = input(\"Digite o segundo numero: \")\n",
        "a_int = int(a_str) # converte string/texto para inteiro\n",
        "b_int = int(b_str) # converte string/texto para inteiro\n",
        "soma = a_int + b_int\n",
        "print(\"A soma de\", a_int, \"+\", b_int, \"eh igual a\", soma)\n"
      ],
      "metadata": {
        "colab": {
          "base_uri": "https://localhost:8080/"
        },
        "id": "rPkBXUXl-MFC",
        "outputId": "74a4431f-2891-4114-e57b-4d1e2f885fe0"
      },
      "execution_count": 10,
      "outputs": [
        {
          "output_type": "stream",
          "name": "stdout",
          "text": [
            "Digite o primeiro numero: 10\n",
            "Digite o segundo numero: 15\n",
            "A soma de 10 + 15 eh igual a 25\n"
          ]
        }
      ]
    },
    {
      "cell_type": "markdown",
      "source": [
        "Na questão 5, os valores informados pela função input são por padrão armazenadas como string, então com a função int foi possível transformar o tipo da variável de string para inteiro. Com a função print foi possível informar os textos dentro das aspas e inserir as variáveis separando por vírgula. "
      ],
      "metadata": {
        "id": "ED8uh4cB-oO9"
      }
    },
    {
      "cell_type": "markdown",
      "source": [
        "Questão 6"
      ],
      "metadata": {
        "id": "kgks-7Zw-rJS"
      }
    },
    {
      "cell_type": "code",
      "source": [
        "a = int(input(\"Digite o primeiro numero: \"))\n",
        "b = int(input(\"Digite o segundo numero: \"))\n",
        "soma = a + b\n",
        "print(\"A soma de\", a, \"+\", b, \"eh igual a\", soma)"
      ],
      "metadata": {
        "colab": {
          "base_uri": "https://localhost:8080/"
        },
        "id": "zm6ziNZ6-s74",
        "outputId": "5606ecf6-1ea8-4b62-c570-400e560267fb"
      },
      "execution_count": 11,
      "outputs": [
        {
          "output_type": "stream",
          "name": "stdout",
          "text": [
            "Digite o primeiro numero: 10\n",
            "Digite o segundo numero: 15\n",
            "A soma de 10 + 15 eh igual a 25\n"
          ]
        }
      ]
    },
    {
      "cell_type": "markdown",
      "source": [
        "Na questão 6, adicionando a função int antes do input já informamos ao python que o valor informado no input deve ser transformado para variável do tipo inteiro. Então, foi possível fazer a soma e também com a função print foi possível mostrar o resultado da soma e adicionar os textos dentro das aspas, e as variáveis separadas por vírgula. "
      ],
      "metadata": {
        "id": "WjgiYxAlBPyN"
      }
    }
  ]
}