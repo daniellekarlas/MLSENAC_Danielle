{
  "nbformat": 4,
  "nbformat_minor": 0,
  "metadata": {
    "colab": {
      "provenance": [],
      "authorship_tag": "ABX9TyOeRExAT5Ccz2BeocI/dBsA",
      "include_colab_link": true
    },
    "kernelspec": {
      "name": "python3",
      "display_name": "Python 3"
    },
    "language_info": {
      "name": "python"
    }
  },
  "cells": [
    {
      "cell_type": "markdown",
      "metadata": {
        "id": "view-in-github",
        "colab_type": "text"
      },
      "source": [
        "<a href=\"https://colab.research.google.com/github/daniellekarlas/MLSENAC_Danielle/blob/main/praticaaula4.ipynb\" target=\"_parent\"><img src=\"https://colab.research.google.com/assets/colab-badge.svg\" alt=\"Open In Colab\"/></a>"
      ]
    },
    {
      "cell_type": "markdown",
      "source": [
        "1. Crie uma variável chamada contador = 0. Enquanto counter for menor que 100, imprima os valores na tela.\n",
        " "
      ],
      "metadata": {
        "id": "gQrQlDAHAs_Y"
      }
    },
    {
      "cell_type": "code",
      "execution_count": 7,
      "metadata": {
        "colab": {
          "base_uri": "https://localhost:8080/"
        },
        "id": "L-97HN9BAHHC",
        "outputId": "4415827a-c954-4894-c3a1-42c6c299e546"
      },
      "outputs": [
        {
          "output_type": "stream",
          "name": "stdout",
          "text": [
            "0\n",
            "1\n",
            "2\n",
            "3\n",
            "4\n",
            "5\n",
            "6\n",
            "7\n",
            "8\n",
            "9\n",
            "10\n",
            "11\n",
            "12\n",
            "13\n",
            "14\n",
            "15\n",
            "16\n",
            "17\n",
            "18\n",
            "19\n",
            "20\n",
            "21\n",
            "22\n",
            "23\n",
            "24\n",
            "25\n",
            "26\n",
            "27\n",
            "28\n",
            "29\n",
            "30\n",
            "31\n",
            "32\n",
            "33\n",
            "34\n",
            "35\n",
            "36\n",
            "37\n",
            "38\n",
            "39\n",
            "40\n",
            "41\n",
            "42\n",
            "43\n",
            "44\n",
            "45\n",
            "46\n",
            "47\n",
            "48\n",
            "49\n",
            "50\n",
            "51\n",
            "52\n",
            "53\n",
            "54\n",
            "55\n",
            "56\n",
            "57\n",
            "58\n",
            "59\n",
            "60\n",
            "61\n",
            "62\n",
            "63\n",
            "64\n",
            "65\n",
            "66\n",
            "67\n",
            "68\n",
            "69\n",
            "70\n",
            "71\n",
            "72\n",
            "73\n",
            "74\n",
            "75\n",
            "76\n",
            "77\n",
            "78\n",
            "79\n",
            "80\n",
            "81\n",
            "82\n",
            "83\n",
            "84\n",
            "85\n",
            "86\n",
            "87\n",
            "88\n",
            "89\n",
            "90\n",
            "91\n",
            "92\n",
            "93\n",
            "94\n",
            "95\n",
            "96\n",
            "97\n",
            "98\n",
            "99\n"
          ]
        }
      ],
      "source": [
        "contador=0\n",
        "while contador <100:\n",
        "  print(contador)\n",
        "  contador+=1"
      ]
    },
    {
      "cell_type": "markdown",
      "source": [
        "2. Crie uma lista vazia e uma variável com valor 4. Enquanto o valor da variável for menor ou igual a 20, adicione à lista, apenas os valores pares e imprima a lista.\n",
        " "
      ],
      "metadata": {
        "id": "7xOTUT4XCDaf"
      }
    },
    {
      "cell_type": "code",
      "source": [
        "lista1=[]\n",
        "numero=4\n",
        "\n",
        "while numero <=20:\n",
        "  numero+=1\n",
        "  if numero %2==0:\n",
        "    lista1.append(numero)\n",
        "print(lista1)\n",
        "\n",
        "\n",
        "\n",
        "\n",
        "    "
      ],
      "metadata": {
        "colab": {
          "base_uri": "https://localhost:8080/"
        },
        "id": "jaWe2AMJB_sj",
        "outputId": "862e85cb-073e-44f2-a6d7-415809733ecc"
      },
      "execution_count": 18,
      "outputs": [
        {
          "output_type": "stream",
          "name": "stdout",
          "text": [
            "[6, 8, 10, 12, 14, 16, 18, 20]\n"
          ]
        }
      ]
    },
    {
      "cell_type": "markdown",
      "source": [
        " 3. Faça a correção dos erros no código abaixo e execute o programa.\n",
        "\n",
        "temperatura = float(input(Qual a temperatura? ))\n",
        "if temperatura > 30\n",
        "print('Vista roupas leves.')\n",
        "else\n",
        "print('Busque seus casacos.')\n",
        " "
      ],
      "metadata": {
        "id": "ndDHaKbCDz2v"
      }
    },
    {
      "cell_type": "code",
      "source": [
        "temperatura = float(input(Qual a temperatura? )) ##nessa linha falta as aspas dentro do input\n",
        "if temperatura > 30 ##nessa faltou os : depois do 30\n",
        "print('Vista roupas leves.') ###erro de identação nessa \n",
        "else ###faltou os : \n",
        "  print('Busque seus casacos.')"
      ],
      "metadata": {
        "id": "64L2drUXEqqQ"
      },
      "execution_count": null,
      "outputs": []
    },
    {
      "cell_type": "code",
      "source": [
        "temperatura = float(input(\"Qual a temperatura?\"))\n",
        "if temperatura > 30:\n",
        "  print('Vista roupas leves.')\n",
        "else:\n",
        "  print('Busque seus casacos.')\n",
        " "
      ],
      "metadata": {
        "colab": {
          "base_uri": "https://localhost:8080/"
        },
        "id": "T0E20WxbD28F",
        "outputId": "3c3f1ccb-b0e2-4a42-d0cb-4a4f2b40c4c3"
      },
      "execution_count": 28,
      "outputs": [
        {
          "output_type": "stream",
          "name": "stdout",
          "text": [
            "Qual a temperatura?30\n",
            "Busque seus casacos.\n"
          ]
        }
      ]
    },
    {
      "cell_type": "markdown",
      "source": [
        " 4. Faça um programa que conte quantas vezes a letra \"s\" aparece na frase abaixo.\n",
        "“'Educação não transforma o mundo. Educação muda pessoas. Pessoas transformam o mundo.\" (Paulo Freire)\n",
        " "
      ],
      "metadata": {
        "id": "WfvpBJzbFMmJ"
      }
    },
    {
      "cell_type": "code",
      "source": [
        "frase=tuple(\"Educação não transforma o mundo. Educação muda pessoas. Pessoas transformam o mundo. (Paulo Freire)\")\n",
        "print(frase.count(\"s\"))"
      ],
      "metadata": {
        "colab": {
          "base_uri": "https://localhost:8080/"
        },
        "id": "cG1sn4lWEkpd",
        "outputId": "8ed473a1-77de-410d-b6ab-4ac56a6ecdbb"
      },
      "execution_count": 65,
      "outputs": [
        {
          "output_type": "stream",
          "name": "stdout",
          "text": [
            "8\n"
          ]
        }
      ]
    },
    {
      "cell_type": "markdown",
      "source": [
        "Questão 5 foi igual a questão 4\n",
        " 5. Faça um programa que conte quantas vezes a letra \"s\" aparece na frase abaixo.\n",
        "“'Educação não transforma o mundo. Educação muda pessoas. Pessoas transformam o mundo.\" (Paulo Freire)\n",
        " "
      ],
      "metadata": {
        "id": "f00b9TreKBLI"
      }
    },
    {
      "cell_type": "markdown",
      "source": [
        "6. Considere a lista abaixo e retorne apenas os elementos cujo índice for maior que 5.\n",
        "\n",
        "lista = ['a', 'b', 'c', 'd', 'e', 'f', 'g', 'h']"
      ],
      "metadata": {
        "id": "tegJx9KjKRzR"
      }
    },
    {
      "cell_type": "code",
      "source": [
        "lista = ['a', 'b', 'c', 'd', 'e', 'f', 'g', 'h']\n",
        "print(lista[5::])\n",
        " "
      ],
      "metadata": {
        "colab": {
          "base_uri": "https://localhost:8080/"
        },
        "id": "F4fcjtlNKaR0",
        "outputId": "4344579a-78fb-4543-cf8b-e528b0089e5b"
      },
      "execution_count": 78,
      "outputs": [
        {
          "output_type": "stream",
          "name": "stdout",
          "text": [
            "['f', 'g', 'h']\n"
          ]
        }
      ]
    },
    {
      "cell_type": "markdown",
      "source": [
        " 7. Crie um terceiro dicionário com as chaves do dicionário 1 e os valores do dicionário 2 abaixo.\n",
        "dict1 = {'a':1,'b':2} dict2 = {'c':4,'d':5}\n",
        " "
      ],
      "metadata": {
        "id": "Un2IPY8bLute"
      }
    },
    {
      "cell_type": "code",
      "source": [
        "##essa foi a resolução que Erick mostrou na sala, mas como eu não entendi fui procurar outra função e achei naquele livro q vc mandou a funcao update.\n",
        "dict2 = {'c':4,'d':5}\n",
        "dict1 = {'a':1,'b':2} \n",
        "dict3 = {**dict1, **dict2}\n",
        "print(dict3)"
      ],
      "metadata": {
        "colab": {
          "base_uri": "https://localhost:8080/"
        },
        "id": "SZO_cDurL0v2",
        "outputId": "0a6289ce-ee31-41f6-e8e5-1e00cf538032"
      },
      "execution_count": 95,
      "outputs": [
        {
          "output_type": "stream",
          "name": "stdout",
          "text": [
            "{'a': 1, 'b': 2, 'c': 4, 'd': 5}\n"
          ]
        }
      ]
    },
    {
      "cell_type": "code",
      "source": [
        "##Consegui entender melhor dessa forma, criei um dicionário vazio e fui atualizando com os valores do dict1 e 2.\n",
        "dict1 = {'a':1,'b':2}\n",
        "dict2 = {'c':4,'d':5}\n",
        "dict3={}\n",
        "dict3.update(dict1)\n",
        "dict3.update(dict2)\n",
        "print(dict3)\n"
      ],
      "metadata": {
        "colab": {
          "base_uri": "https://localhost:8080/"
        },
        "id": "xAYwDkLYPhym",
        "outputId": "c6cfeac1-28ac-4625-f3fa-fb89b3756f2e"
      },
      "execution_count": 107,
      "outputs": [
        {
          "output_type": "stream",
          "name": "stdout",
          "text": [
            "{'a': 1, 'b': 2, 'c': 4, 'd': 5}\n"
          ]
        }
      ]
    },
    {
      "cell_type": "markdown",
      "source": [
        "8."
      ],
      "metadata": {
        "id": "CtLmANDoRZJe"
      }
    },
    {
      "cell_type": "code",
      "source": [
        "for um_valor in range(10):\n",
        "  print(um_valor)"
      ],
      "metadata": {
        "colab": {
          "base_uri": "https://localhost:8080/"
        },
        "id": "ZSqL0nfERYhq",
        "outputId": "3f175def-0977-4b97-e15f-139d48a0e2ac"
      },
      "execution_count": 108,
      "outputs": [
        {
          "output_type": "stream",
          "name": "stdout",
          "text": [
            "0\n",
            "1\n",
            "2\n",
            "3\n",
            "4\n",
            "5\n",
            "6\n",
            "7\n",
            "8\n",
            "9\n"
          ]
        }
      ]
    },
    {
      "cell_type": "markdown",
      "source": [
        "9."
      ],
      "metadata": {
        "id": "VTadeJ_kRvZC"
      }
    },
    {
      "cell_type": "code",
      "source": [
        "for um_char in \"Venha para a festa\":\n",
        "  print(um_char)"
      ],
      "metadata": {
        "colab": {
          "base_uri": "https://localhost:8080/"
        },
        "id": "52JbrlKaRqom",
        "outputId": "ca6b9a30-5b97-446d-87cf-d81b04be91db"
      },
      "execution_count": 109,
      "outputs": [
        {
          "output_type": "stream",
          "name": "stdout",
          "text": [
            "V\n",
            "e\n",
            "n\n",
            "h\n",
            "a\n",
            " \n",
            "p\n",
            "a\n",
            "r\n",
            "a\n",
            " \n",
            "a\n",
            " \n",
            "f\n",
            "e\n",
            "s\n",
            "t\n",
            "a\n"
          ]
        }
      ]
    }
  ]
}