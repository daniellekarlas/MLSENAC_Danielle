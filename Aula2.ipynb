{
  "nbformat": 4,
  "nbformat_minor": 0,
  "metadata": {
    "colab": {
      "provenance": [],
      "include_colab_link": true
    },
    "kernelspec": {
      "name": "python3",
      "display_name": "Python 3"
    },
    "language_info": {
      "name": "python"
    }
  },
  "cells": [
    {
      "cell_type": "markdown",
      "metadata": {
        "id": "view-in-github",
        "colab_type": "text"
      },
      "source": [
        "<a href=\"https://colab.research.google.com/github/daniellekarlas/MLSENAC_Danielle/blob/main/Aula2.ipynb\" target=\"_parent\"><img src=\"https://colab.research.google.com/assets/colab-badge.svg\" alt=\"Open In Colab\"/></a>"
      ]
    },
    {
      "cell_type": "code",
      "execution_count": 1,
      "metadata": {
        "id": "RMSzp6R3O0jT"
      },
      "outputs": [],
      "source": [
        "idade1=20"
      ]
    },
    {
      "cell_type": "code",
      "source": [
        "idade2=35"
      ],
      "metadata": {
        "id": "C_fRwDHgSSPO"
      },
      "execution_count": 2,
      "outputs": []
    },
    {
      "cell_type": "code",
      "source": [
        "idade1+idade2"
      ],
      "metadata": {
        "colab": {
          "base_uri": "https://localhost:8080/"
        },
        "id": "ZMZjjF1rSWXF",
        "outputId": "4ba7f4fd-8446-4938-d01b-48f54ac8ac38"
      },
      "execution_count": 3,
      "outputs": [
        {
          "output_type": "execute_result",
          "data": {
            "text/plain": [
              "55"
            ]
          },
          "metadata": {},
          "execution_count": 3
        }
      ]
    },
    {
      "cell_type": "code",
      "source": [
        "idade1+idade2"
      ],
      "metadata": {
        "colab": {
          "base_uri": "https://localhost:8080/"
        },
        "id": "na8AdlbwSqRo",
        "outputId": "b3b3e2a0-f9da-420d-c66d-f55b3676520b"
      },
      "execution_count": 4,
      "outputs": [
        {
          "output_type": "execute_result",
          "data": {
            "text/plain": [
              "55"
            ]
          },
          "metadata": {},
          "execution_count": 4
        }
      ]
    },
    {
      "cell_type": "code",
      "source": [
        "somaIdades=idade1+idade2"
      ],
      "metadata": {
        "id": "cNlfSJsKSt5d"
      },
      "execution_count": 5,
      "outputs": []
    },
    {
      "cell_type": "code",
      "source": [
        "idade1-idade2"
      ],
      "metadata": {
        "colab": {
          "base_uri": "https://localhost:8080/"
        },
        "id": "BihD0P83S3FV",
        "outputId": "76f32e34-c64b-42d0-c832-c57d67bb0457"
      },
      "execution_count": 6,
      "outputs": [
        {
          "output_type": "execute_result",
          "data": {
            "text/plain": [
              "-15"
            ]
          },
          "metadata": {},
          "execution_count": 6
        }
      ]
    },
    {
      "cell_type": "code",
      "source": [
        "idade1*idade2"
      ],
      "metadata": {
        "colab": {
          "base_uri": "https://localhost:8080/"
        },
        "id": "bKLxutb0S7Xt",
        "outputId": "af7e7f74-ef4c-4712-971b-1d471a618226"
      },
      "execution_count": 7,
      "outputs": [
        {
          "output_type": "execute_result",
          "data": {
            "text/plain": [
              "700"
            ]
          },
          "metadata": {},
          "execution_count": 7
        }
      ]
    },
    {
      "cell_type": "code",
      "source": [
        "idade1/idade2"
      ],
      "metadata": {
        "colab": {
          "base_uri": "https://localhost:8080/"
        },
        "id": "WdHzGDW2S_s9",
        "outputId": "777df5d9-41fa-40d5-9caf-280229de7236"
      },
      "execution_count": 8,
      "outputs": [
        {
          "output_type": "execute_result",
          "data": {
            "text/plain": [
              "0.5714285714285714"
            ]
          },
          "metadata": {},
          "execution_count": 8
        }
      ]
    },
    {
      "cell_type": "code",
      "source": [
        "idade1+10"
      ],
      "metadata": {
        "colab": {
          "base_uri": "https://localhost:8080/"
        },
        "id": "7HUGnv82TIeG",
        "outputId": "9308bab5-c902-4f3b-d443-c6982314e549"
      },
      "execution_count": 9,
      "outputs": [
        {
          "output_type": "execute_result",
          "data": {
            "text/plain": [
              "30"
            ]
          },
          "metadata": {},
          "execution_count": 9
        }
      ]
    },
    {
      "cell_type": "code",
      "source": [
        "idade1-15"
      ],
      "metadata": {
        "colab": {
          "base_uri": "https://localhost:8080/"
        },
        "id": "sBu9OhpWTK4F",
        "outputId": "0cbda437-1124-4709-81a6-26ed5d2e3d76"
      },
      "execution_count": 10,
      "outputs": [
        {
          "output_type": "execute_result",
          "data": {
            "text/plain": [
              "5"
            ]
          },
          "metadata": {},
          "execution_count": 10
        }
      ]
    },
    {
      "cell_type": "code",
      "source": [
        "idade1*4"
      ],
      "metadata": {
        "colab": {
          "base_uri": "https://localhost:8080/"
        },
        "id": "D2hKxzlNTOz9",
        "outputId": "509d1421-5390-4e43-9377-2d5f8581f145"
      },
      "execution_count": 11,
      "outputs": [
        {
          "output_type": "execute_result",
          "data": {
            "text/plain": [
              "80"
            ]
          },
          "metadata": {},
          "execution_count": 11
        }
      ]
    },
    {
      "cell_type": "code",
      "source": [
        "idade1/5"
      ],
      "metadata": {
        "colab": {
          "base_uri": "https://localhost:8080/"
        },
        "id": "xZbMQcYcTRNB",
        "outputId": "44db810f-ff6a-450c-8c09-a6d182c5a58f"
      },
      "execution_count": 12,
      "outputs": [
        {
          "output_type": "execute_result",
          "data": {
            "text/plain": [
              "4.0"
            ]
          },
          "metadata": {},
          "execution_count": 12
        }
      ]
    },
    {
      "cell_type": "code",
      "source": [
        "2* (idade1+idade2)"
      ],
      "metadata": {
        "colab": {
          "base_uri": "https://localhost:8080/"
        },
        "id": "mFqHlOE1TWTV",
        "outputId": "8f04eeb6-2cff-4c41-e6f2-64117646701f"
      },
      "execution_count": 13,
      "outputs": [
        {
          "output_type": "execute_result",
          "data": {
            "text/plain": [
              "110"
            ]
          },
          "metadata": {},
          "execution_count": 13
        }
      ]
    },
    {
      "cell_type": "code",
      "source": [
        "2*idade1+3*idade2/4"
      ],
      "metadata": {
        "colab": {
          "base_uri": "https://localhost:8080/"
        },
        "id": "NVOlvHwzTdkh",
        "outputId": "026d8198-ce32-4f87-ee16-7f9e5c3c86a8"
      },
      "execution_count": 14,
      "outputs": [
        {
          "output_type": "execute_result",
          "data": {
            "text/plain": [
              "66.25"
            ]
          },
          "metadata": {},
          "execution_count": 14
        }
      ]
    },
    {
      "cell_type": "code",
      "source": [
        "(2*idade1+3*idade2)/4"
      ],
      "metadata": {
        "colab": {
          "base_uri": "https://localhost:8080/"
        },
        "id": "OuckVSGmTnzl",
        "outputId": "adb7b23c-31e8-4bed-cc8b-8d0b714a300d"
      },
      "execution_count": 15,
      "outputs": [
        {
          "output_type": "execute_result",
          "data": {
            "text/plain": [
              "36.25"
            ]
          },
          "metadata": {},
          "execution_count": 15
        }
      ]
    },
    {
      "cell_type": "code",
      "source": [
        "idade1**2"
      ],
      "metadata": {
        "colab": {
          "base_uri": "https://localhost:8080/"
        },
        "id": "8iFyeHw0T1C2",
        "outputId": "d5fdf7a9-de93-48a1-be31-14df78eed785"
      },
      "execution_count": 16,
      "outputs": [
        {
          "output_type": "execute_result",
          "data": {
            "text/plain": [
              "400"
            ]
          },
          "metadata": {},
          "execution_count": 16
        }
      ]
    },
    {
      "cell_type": "code",
      "source": [
        "15**2"
      ],
      "metadata": {
        "colab": {
          "base_uri": "https://localhost:8080/"
        },
        "id": "2eUocT6NT6KI",
        "outputId": "621442ab-bb31-4f30-a391-98fc1cbc547e"
      },
      "execution_count": 17,
      "outputs": [
        {
          "output_type": "execute_result",
          "data": {
            "text/plain": [
              "225"
            ]
          },
          "metadata": {},
          "execution_count": 17
        }
      ]
    },
    {
      "cell_type": "code",
      "source": [
        "idade2//idade1"
      ],
      "metadata": {
        "colab": {
          "base_uri": "https://localhost:8080/"
        },
        "id": "aTWYZT37UU01",
        "outputId": "fb033c81-0de5-4b03-c4b0-136fec88afc6"
      },
      "execution_count": 18,
      "outputs": [
        {
          "output_type": "execute_result",
          "data": {
            "text/plain": [
              "1"
            ]
          },
          "metadata": {},
          "execution_count": 18
        }
      ]
    },
    {
      "cell_type": "code",
      "source": [
        "idade2/idade1"
      ],
      "metadata": {
        "colab": {
          "base_uri": "https://localhost:8080/"
        },
        "id": "jYVpyG6hUaIk",
        "outputId": "32559741-ae30-44b7-a347-67bb99153587"
      },
      "execution_count": 19,
      "outputs": [
        {
          "output_type": "execute_result",
          "data": {
            "text/plain": [
              "1.75"
            ]
          },
          "metadata": {},
          "execution_count": 19
        }
      ]
    },
    {
      "cell_type": "code",
      "source": [
        "idade2%idade1"
      ],
      "metadata": {
        "colab": {
          "base_uri": "https://localhost:8080/"
        },
        "id": "35wACFkbUmat",
        "outputId": "47191684-bae1-4056-dd6e-ef34ed43c5a8"
      },
      "execution_count": 64,
      "outputs": [
        {
          "output_type": "execute_result",
          "data": {
            "text/plain": [
              "15"
            ]
          },
          "metadata": {},
          "execution_count": 64
        }
      ]
    },
    {
      "cell_type": "code",
      "source": [
        "nome=\"Camila\"\n",
        "sobrenome=\"Dantas\""
      ],
      "metadata": {
        "id": "yGP7k0WEUtYc"
      },
      "execution_count": 21,
      "outputs": []
    },
    {
      "cell_type": "code",
      "source": [
        "print(nome + sobrenome)"
      ],
      "metadata": {
        "colab": {
          "base_uri": "https://localhost:8080/"
        },
        "id": "sd6CJ4sLU28d",
        "outputId": "6c1420ce-4d13-4dcf-fb92-ff91e9933b08"
      },
      "execution_count": 22,
      "outputs": [
        {
          "output_type": "stream",
          "name": "stdout",
          "text": [
            "CamilaDantas\n"
          ]
        }
      ]
    },
    {
      "cell_type": "code",
      "source": [
        "print(nome + \" \" + sobrenome)"
      ],
      "metadata": {
        "colab": {
          "base_uri": "https://localhost:8080/"
        },
        "id": "_M45_hIAU3CL",
        "outputId": "5a833e3a-45d7-400a-d62c-4a3ad3f51380"
      },
      "execution_count": 23,
      "outputs": [
        {
          "output_type": "stream",
          "name": "stdout",
          "text": [
            "Camila Dantas\n"
          ]
        }
      ]
    },
    {
      "cell_type": "code",
      "source": [
        "print(\"Olá, \", nome, \"você tem\", idade1 + 15, \"anos.\")"
      ],
      "metadata": {
        "colab": {
          "base_uri": "https://localhost:8080/"
        },
        "id": "pK9ZRWpYVO1U",
        "outputId": "3ae3e2d3-2ab6-4076-b3dd-a1db9bbd95ba"
      },
      "execution_count": 24,
      "outputs": [
        {
          "output_type": "stream",
          "name": "stdout",
          "text": [
            "Olá,  Camila você tem 35 anos.\n"
          ]
        }
      ]
    },
    {
      "cell_type": "markdown",
      "source": [
        "print(\"Olá, \", nome, \"você tem\", idade1 + 15, \"anos.\") nesse caso quando colocamos o espaço após a virgula do olá, faz com que fique com dois espaços. "
      ],
      "metadata": {
        "id": "WwUiO6-7XP7r"
      }
    },
    {
      "cell_type": "code",
      "source": [
        "print(\"Olá, \", nome, \"\\n\", \"você tem\", idade1 + 15, \"anos.\")"
      ],
      "metadata": {
        "colab": {
          "base_uri": "https://localhost:8080/"
        },
        "id": "DB4g8xMeV20m",
        "outputId": "794c905c-e30d-4ffc-f972-44336f3c0644"
      },
      "execution_count": 25,
      "outputs": [
        {
          "output_type": "stream",
          "name": "stdout",
          "text": [
            "Olá,  Camila \n",
            " você tem 35 anos.\n"
          ]
        }
      ]
    },
    {
      "cell_type": "code",
      "source": [
        "input(\"Digite o seu nome: \")"
      ],
      "metadata": {
        "colab": {
          "base_uri": "https://localhost:8080/",
          "height": 54
        },
        "id": "lIkwOEa8V22b",
        "outputId": "6b782f3a-1dcd-4368-89ec-9cee10f1244c"
      },
      "execution_count": 26,
      "outputs": [
        {
          "name": "stdout",
          "output_type": "stream",
          "text": [
            "Digite o seu nome: Danielle\n"
          ]
        },
        {
          "output_type": "execute_result",
          "data": {
            "text/plain": [
              "'Danielle'"
            ],
            "application/vnd.google.colaboratory.intrinsic+json": {
              "type": "string"
            }
          },
          "metadata": {},
          "execution_count": 26
        }
      ]
    },
    {
      "cell_type": "code",
      "source": [
        "nome=input(\"Digite o seu nome: \")"
      ],
      "metadata": {
        "colab": {
          "base_uri": "https://localhost:8080/"
        },
        "id": "qMy63TaLXunz",
        "outputId": "f02db881-47b7-42a6-b891-b966888266d0"
      },
      "execution_count": 27,
      "outputs": [
        {
          "name": "stdout",
          "output_type": "stream",
          "text": [
            "Digite o seu nome: Danielle\n"
          ]
        }
      ]
    },
    {
      "cell_type": "markdown",
      "source": [
        "Desafio 1"
      ],
      "metadata": {
        "id": "MUvYNAszqncl"
      }
    },
    {
      "cell_type": "code",
      "source": [
        "idade= int(input(\"Digite a sua idade: \"))"
      ],
      "metadata": {
        "id": "ZJqQEpszYAo4",
        "colab": {
          "base_uri": "https://localhost:8080/"
        },
        "outputId": "ee9a36ee-1334-4b66-d8df-05064ba98a88"
      },
      "execution_count": 28,
      "outputs": [
        {
          "name": "stdout",
          "output_type": "stream",
          "text": [
            "Digite a sua idade: 41\n"
          ]
        }
      ]
    },
    {
      "cell_type": "code",
      "source": [
        "valor1=input(\"Digite um número inteiro: \")\n",
        "valor2=input(\"Digite outro número inteiro: \")"
      ],
      "metadata": {
        "colab": {
          "base_uri": "https://localhost:8080/"
        },
        "id": "GFYxfALLZaEk",
        "outputId": "c536d0eb-f4c4-4644-b150-6d2a33df1fe4"
      },
      "execution_count": 29,
      "outputs": [
        {
          "name": "stdout",
          "output_type": "stream",
          "text": [
            "Digite um número inteiro: 10\n",
            "Digite outro número inteiro: 15\n"
          ]
        }
      ]
    },
    {
      "cell_type": "code",
      "source": [
        "print(valor1==valor2)\n",
        "print(valor1>valor2)\n",
        "print(valor1<valor2)\n",
        "print(valor1>=valor2)\n",
        "print(valor1<=valor2)"
      ],
      "metadata": {
        "colab": {
          "base_uri": "https://localhost:8080/"
        },
        "id": "qJ0-DRFPaRoq",
        "outputId": "afb8014b-6b87-46f8-c185-480b09672a9d"
      },
      "execution_count": 30,
      "outputs": [
        {
          "output_type": "stream",
          "name": "stdout",
          "text": [
            "False\n",
            "False\n",
            "True\n",
            "False\n",
            "True\n"
          ]
        }
      ]
    },
    {
      "cell_type": "code",
      "source": [
        "numero=10\n",
        "print(numero>0 and numero<10)"
      ],
      "metadata": {
        "colab": {
          "base_uri": "https://localhost:8080/"
        },
        "id": "Rj28XRlbbUDw",
        "outputId": "68b77082-5f0a-4b97-80d8-aaa4223f8b34"
      },
      "execution_count": 31,
      "outputs": [
        {
          "output_type": "stream",
          "name": "stdout",
          "text": [
            "False\n"
          ]
        }
      ]
    },
    {
      "cell_type": "code",
      "source": [
        "numero=10\n",
        "print(numero>0 or numero<10)"
      ],
      "metadata": {
        "colab": {
          "base_uri": "https://localhost:8080/"
        },
        "id": "E_PhHOGfcvxA",
        "outputId": "ee122f42-1418-48fb-da78-cbf6fe5abe2b"
      },
      "execution_count": 32,
      "outputs": [
        {
          "output_type": "stream",
          "name": "stdout",
          "text": [
            "True\n"
          ]
        }
      ]
    },
    {
      "cell_type": "code",
      "source": [
        "###Mostrando as funções, if, else \n",
        "\n",
        "if():\n",
        "  print()\n",
        "  else:\n",
        "    print()\n"
      ],
      "metadata": {
        "id": "lO93b3vsY5Tm"
      },
      "execution_count": null,
      "outputs": []
    },
    {
      "cell_type": "markdown",
      "source": [
        "\n",
        "\n",
        "Desafio 2\n",
        "\n",
        "```\n",
        "\n",
        "valor=input(\"Digite um número inteiro: \")\n",
        "\n",
        "if(valor):\n",
        "  print(\"odd\")\n",
        "  else:\n",
        "    print(\"even\")\n",
        "```\n",
        "\n"
      ],
      "metadata": {
        "id": "NV-ysQ9nd-tx"
      }
    },
    {
      "cell_type": "code",
      "source": [
        "valor=int(input(\"Digite um número inteiro: \"))\n",
        "\n",
        "if(valor % 2==0): #se n é múltiplo de 2\n",
        "  print(valor, \"é par\")\n",
        "else: #se não é múltiplo de 2\n",
        "  print(valor, \"é ímpar\")"
      ],
      "metadata": {
        "colab": {
          "base_uri": "https://localhost:8080/"
        },
        "id": "EqiLnaeBZQVe",
        "outputId": "426cb160-5c2a-43bb-86d2-9cae04e8f293"
      },
      "execution_count": 51,
      "outputs": [
        {
          "output_type": "stream",
          "name": "stdout",
          "text": [
            "Digite um número inteiro: 7\n",
            "7 é ímpar\n"
          ]
        }
      ]
    },
    {
      "cell_type": "code",
      "source": [
        "n = int(input(\"Digite um número inteiro: \"))\n",
        "if n % 2 == 0:\n",
        "  print(n, \"é par\")\n",
        "else:\n",
        "    print(n, \"é ímpar\")\n",
        "  \n",
        "print(\"Fim.\")"
      ],
      "metadata": {
        "colab": {
          "base_uri": "https://localhost:8080/"
        },
        "id": "YiGZR_gqd_9D",
        "outputId": "c21ed191-fb0a-4ea6-8793-b9c0b1e3c7d8"
      },
      "execution_count": 52,
      "outputs": [
        {
          "output_type": "stream",
          "name": "stdout",
          "text": [
            "Digite um número inteiro: 8\n",
            "8 é par\n",
            "Fim.\n"
          ]
        }
      ]
    },
    {
      "cell_type": "code",
      "source": [
        "n = int(input(\"Digite um número inteiro: \"))\n",
        "if n % 2 == 0:\n",
        "  print(n, \"é par\")\n",
        "if n % 2 !=0:\n",
        "    print(n, \"é ímpar\")\n",
        "  \n",
        "print(\"Fim.\")"
      ],
      "metadata": {
        "colab": {
          "base_uri": "https://localhost:8080/"
        },
        "id": "pyrKrxCrg3Jy",
        "outputId": "ed58e829-4987-42e1-aff6-5a5b09c8ccfe"
      },
      "execution_count": 53,
      "outputs": [
        {
          "output_type": "stream",
          "name": "stdout",
          "text": [
            "Digite um número inteiro: 9\n",
            "9 é ímpar\n",
            "Fim.\n"
          ]
        }
      ]
    },
    {
      "cell_type": "code",
      "source": [
        "cupom = input(\"digite o cupom: \")"
      ],
      "metadata": {
        "colab": {
          "base_uri": "https://localhost:8080/"
        },
        "id": "_1WQFg1chMOg",
        "outputId": "1a2036f6-af5d-49c5-bedc-c095b0fc8f48"
      },
      "execution_count": 66,
      "outputs": [
        {
          "name": "stdout",
          "output_type": "stream",
          "text": [
            "digite o cupom: aula1\n"
          ]
        }
      ]
    },
    {
      "cell_type": "code",
      "source": [
        "if (cupom == \"aula1\" or cupom == \"aula2\" ):\n",
        "  print(\"você ganhou 10% de desconto\")"
      ],
      "metadata": {
        "colab": {
          "base_uri": "https://localhost:8080/"
        },
        "id": "Kp2D6JgShTum",
        "outputId": "e35ee191-c312-440d-ab6d-39d6cd718b00"
      },
      "execution_count": 67,
      "outputs": [
        {
          "output_type": "stream",
          "name": "stdout",
          "text": [
            "você ganhou 10% de desconto\n"
          ]
        }
      ]
    },
    {
      "cell_type": "code",
      "source": [
        "cupom = input(\"digite o cupom: \")"
      ],
      "metadata": {
        "id": "LoNpBnWEiEAH",
        "colab": {
          "base_uri": "https://localhost:8080/"
        },
        "outputId": "b922fc80-1676-4f12-86f2-8e5f028b0ea9"
      },
      "execution_count": 56,
      "outputs": [
        {
          "name": "stdout",
          "output_type": "stream",
          "text": [
            "digite o cupom: aula2\n"
          ]
        }
      ]
    },
    {
      "cell_type": "code",
      "source": [
        "if (cupom == \"aula1\" or cupom == \"aula2\"):\n",
        "  print (\"você ganhou 10% de desconto.\")\n",
        "else:\n",
        "  print (\"cupom inválido\")"
      ],
      "metadata": {
        "id": "mB9DUTFyiML9",
        "colab": {
          "base_uri": "https://localhost:8080/"
        },
        "outputId": "ed1450c1-4ba4-4864-957b-2a43089f0ba9"
      },
      "execution_count": 57,
      "outputs": [
        {
          "output_type": "stream",
          "name": "stdout",
          "text": [
            "você ganhou 10% de desconto.\n"
          ]
        }
      ]
    },
    {
      "cell_type": "markdown",
      "source": [
        "Desafio 3"
      ],
      "metadata": {
        "id": "OHAtcjdYsF7j"
      }
    },
    {
      "cell_type": "code",
      "source": [
        "cupom = input(\"digite o cupom: \")\n",
        "if (cupom == \"aula1\" or cupom == \"aula2\"):\n",
        "  print (\"você ganhou 15% de desconto.\")\n",
        "else:\n",
        "  print (\"você ganhou 5% de desconto\")"
      ],
      "metadata": {
        "id": "Z_29IBtnjh_6",
        "colab": {
          "base_uri": "https://localhost:8080/"
        },
        "outputId": "df06b2d3-556c-42e7-c0bd-940603bf72ea"
      },
      "execution_count": 58,
      "outputs": [
        {
          "output_type": "stream",
          "name": "stdout",
          "text": [
            "digite o cupom: aula\n",
            "você ganhou 5% de desconto\n"
          ]
        }
      ]
    },
    {
      "cell_type": "code",
      "source": [
        "### mostrando if, elif e else\n",
        "if( ):\n",
        "  print( )\n",
        "elif( ):\n",
        "  print( )\n",
        "else:\n",
        "  print( )\n",
        "\n",
        "\n"
      ],
      "metadata": {
        "id": "qh_OvFiMm8VI"
      },
      "execution_count": null,
      "outputs": []
    },
    {
      "cell_type": "markdown",
      "source": [
        "Desafio 4"
      ],
      "metadata": {
        "id": "6e6-rjqKnHKg"
      }
    },
    {
      "cell_type": "code",
      "source": [
        "cupom = input(\"digite o cupom: \")\n",
        "if(cupom == \"aula1\"):\n",
        "  print(\"Você ganhou 15% de desconto\")\n",
        "elif(cupom == \"aula2\"):\n",
        "  print(\"Você ganhou 10% de desconto\")\n",
        "else:\n",
        "  print(\"Você ganhou 5% de desconto\")\n"
      ],
      "metadata": {
        "colab": {
          "base_uri": "https://localhost:8080/"
        },
        "id": "lPzLnBwonaBu",
        "outputId": "f8cdf1a8-2dd9-4ed4-f320-27d88bc797dd"
      },
      "execution_count": 68,
      "outputs": [
        {
          "output_type": "stream",
          "name": "stdout",
          "text": [
            "digite o cupom: aula1\n",
            "Você ganhou 15% de desconto\n"
          ]
        }
      ]
    },
    {
      "cell_type": "code",
      "source": [
        "if (1==1): #mensagem no primeiro nível\n",
        "  print(\"Mensagem no segundo nível\") #segundo n~ivel\n",
        "  if ((1==2) == False):\n",
        "    print(\"Mensagem no terceiro nível\") #terceiro nível"
      ],
      "metadata": {
        "colab": {
          "base_uri": "https://localhost:8080/"
        },
        "id": "O_9CsnULoiLg",
        "outputId": "c6ed7d3f-a3f1-47dc-c9ce-6b5f6d072956"
      },
      "execution_count": 63,
      "outputs": [
        {
          "output_type": "stream",
          "name": "stdout",
          "text": [
            "Mensagem no segundo nível\n",
            "Mensagem no terceiro nível\n"
          ]
        }
      ]
    },
    {
      "cell_type": "markdown",
      "source": [
        "\n",
        "indentação ´MUITO IMPORTANTE'\n",
        "if x == y:\n",
        "  z=3\n",
        "    a=4\n",
        "Corresponde aos níveis.\n",
        "\n",
        "if a == 2:\n",
        "  if b == 3:\n",
        "    if c==4\n",
        "      if d == ?\n"
      ],
      "metadata": {
        "id": "vv3FMxw4pwBC"
      }
    },
    {
      "cell_type": "markdown",
      "source": [
        "Desafio 5"
      ],
      "metadata": {
        "id": "qZQLw3JhrXIw"
      }
    },
    {
      "cell_type": "code",
      "source": [
        "dia = input(\"clima - sol ou chuva: \")\n",
        "dinheiro=input(\"Dinheiro - sim ou não: \")\n",
        "if(dia == \"sol\") and (dinheiro == \"sim\"):\n",
        "  print(\"praia\")\n",
        "else:\n",
        "  print(\"Netflix\")"
      ],
      "metadata": {
        "colab": {
          "base_uri": "https://localhost:8080/"
        },
        "id": "esa-F-4PrZYp",
        "outputId": "8b39b1a4-826a-443b-829c-f39307f89454"
      },
      "execution_count": 76,
      "outputs": [
        {
          "output_type": "stream",
          "name": "stdout",
          "text": [
            "clima - sol ou chuva: sol\n",
            "Dinheiro - sim ou não: sim\n",
            "praia\n"
          ]
        }
      ]
    },
    {
      "cell_type": "code",
      "source": [
        "tempo = input (\"Está fazendo sol?\")\n",
        "dinheiro = input (\"você tem dinheiro?\")\n",
        "if (tempo == \"sim\" and dinheiro ==\"sim\"):\n",
        "  print(\"Vamos à praia.\")\n",
        "else: \n",
        "      print(\"Vamos assistir Netflix.\")"
      ],
      "metadata": {
        "colab": {
          "base_uri": "https://localhost:8080/"
        },
        "id": "Kj2T3X-KtcWI",
        "outputId": "48b6694b-b0ef-476d-83a2-0165cedbe6f2"
      },
      "execution_count": 79,
      "outputs": [
        {
          "output_type": "stream",
          "name": "stdout",
          "text": [
            "Está fazendo sol?não\n",
            "você tem dinheiro?sim\n",
            "Vamos assistir Netflix.\n"
          ]
        }
      ]
    },
    {
      "cell_type": "markdown",
      "source": [
        "Desafio 6"
      ],
      "metadata": {
        "id": "D1gXiQf_u5oD"
      }
    },
    {
      "cell_type": "code",
      "source": [
        "tempo = input (\"Está fazendo sol?\")\n",
        "dinheiro = input (\"você tem dinheiro?\")\n",
        "if (tempo == \"sim\" or dinheiro ==\"sim\"):\n",
        "  print(\"Vamos à praia.\")\n",
        "else: \n",
        "      print(\"Vamos assistir Netflix.\")"
      ],
      "metadata": {
        "colab": {
          "base_uri": "https://localhost:8080/"
        },
        "id": "FC4arnRFzgOt",
        "outputId": "09603443-ef29-40a4-fe3e-eb2f8c4b8a5a"
      },
      "execution_count": 84,
      "outputs": [
        {
          "output_type": "stream",
          "name": "stdout",
          "text": [
            "Está fazendo sol?não\n",
            "você tem dinheiro?não\n",
            "Vamos assistir Netflix.\n"
          ]
        }
      ]
    },
    {
      "cell_type": "markdown",
      "source": [
        "Desafio 7"
      ],
      "metadata": {
        "id": "kO8CG75OvqMv"
      }
    },
    {
      "cell_type": "code",
      "source": [
        "tempo = input (\"Está fazendo sol?\")\n",
        "dinheiro = input (\"você tem dinheiro?\")\n",
        "if (tempo == \"sim\"):\n",
        "  if (dinheiro ==\"sim\" or \"não\"):\n",
        "    print(\"Vamos à praia.\")\n",
        "else: \n",
        "      print(\"Vamos assistir Netflix.\")"
      ],
      "metadata": {
        "colab": {
          "base_uri": "https://localhost:8080/"
        },
        "id": "2x3d6UGbz0V_",
        "outputId": "a4c987c3-f96e-4bf6-9942-30e3db3d65f5"
      },
      "execution_count": 87,
      "outputs": [
        {
          "output_type": "stream",
          "name": "stdout",
          "text": [
            "Está fazendo sol?não\n",
            "você tem dinheiro?não\n",
            "Vamos assistir Netflix.\n"
          ]
        }
      ]
    },
    {
      "cell_type": "code",
      "source": [
        "tempo = input (\"Está fazendo sol?\")\n",
        "dinheiro = input(\"Você tem dinheiro?\")\n",
        "if (tempo == \"sim\"):\n",
        "  if (dinheiro ==\"sim\"):\n",
        "    print(\"Vamos à praia.\")\n",
        "  else:\n",
        "      print(\"Vá ligar o ventilador\")\n",
        "else: \n",
        "    print(\"Vamos assistir Netflix.\")"
      ],
      "metadata": {
        "colab": {
          "base_uri": "https://localhost:8080/"
        },
        "id": "uY1VwWHe19AO",
        "outputId": "4e127dba-e276-4f32-f413-6ddb8d359873"
      },
      "execution_count": 95,
      "outputs": [
        {
          "output_type": "stream",
          "name": "stdout",
          "text": [
            "Está fazendo sol?não\n",
            "Você tem dinheiro?não\n",
            "Vamos assistir Netflix.\n"
          ]
        }
      ]
    },
    {
      "cell_type": "code",
      "source": [
        "x=4\n",
        "0<x<5"
      ],
      "metadata": {
        "colab": {
          "base_uri": "https://localhost:8080/"
        },
        "id": "86M9-g_j2Y4m",
        "outputId": "452d4951-5b37-413e-fdd9-45ae96a1e486"
      },
      "execution_count": 96,
      "outputs": [
        {
          "output_type": "execute_result",
          "data": {
            "text/plain": [
              "True"
            ]
          },
          "metadata": {},
          "execution_count": 96
        }
      ]
    },
    {
      "cell_type": "code",
      "source": [
        "x=4\n",
        "x>0 and x<5"
      ],
      "metadata": {
        "colab": {
          "base_uri": "https://localhost:8080/"
        },
        "id": "6nFJhjys3lJG",
        "outputId": "de5ebdf6-4a50-49da-be56-0c34142e4616"
      },
      "execution_count": 97,
      "outputs": [
        {
          "output_type": "execute_result",
          "data": {
            "text/plain": [
              "True"
            ]
          },
          "metadata": {},
          "execution_count": 97
        }
      ]
    },
    {
      "cell_type": "markdown",
      "source": [
        "Desafio 8"
      ],
      "metadata": {
        "id": "AeaumHUZ5_rW"
      }
    },
    {
      "cell_type": "code",
      "source": [
        "anoFabricacao=input(\"Digite o ano do carro\")\n",
        "valorCarro=int(input(\"Digite o valor do seu carro:\"))\n",
        "if (anoFabricacao < \"1990\"):\n",
        "    print(\"O valor do seu imposto é R$\", valorCarro*1/100)\n",
        "else:\n",
        "    print(\"O valor do seu imposto é R$\", valorCarro*1.5/100)"
      ],
      "metadata": {
        "colab": {
          "base_uri": "https://localhost:8080/"
        },
        "id": "GeOoWJ7w6Bfl",
        "outputId": "055f93de-2252-4d51-fdec-b1c8f6980b97"
      },
      "execution_count": 99,
      "outputs": [
        {
          "output_type": "stream",
          "name": "stdout",
          "text": [
            "Digite o ano do carro1981\n",
            "Digite o valor do seu carro:30000\n",
            "O valor do seu imposto é R$ 300.0\n"
          ]
        }
      ]
    },
    {
      "cell_type": "code",
      "source": [
        "anoFabricacao=input(\"Digite o ano do carro\")\n",
        "valorCarro=float(input(\"Digite o valor do seu carro: \"))\n",
        "if (anoFabricacao < \"1990\"):\n",
        "    print(\"O valor do seu imposto é R$\", valorCarro*(0.01))\n",
        "else:\n",
        "    print(\"O valor do seu imposto é R$\", valorCarro*(0.015))"
      ],
      "metadata": {
        "colab": {
          "base_uri": "https://localhost:8080/"
        },
        "id": "8aq787hO-jSt",
        "outputId": "87ffeac3-70e9-43b6-d3ad-ceac54d95f56"
      },
      "execution_count": 115,
      "outputs": [
        {
          "output_type": "stream",
          "name": "stdout",
          "text": [
            "Digite o ano do carro1989\n",
            "Digite o valor do seu carro: 30000.00\n",
            "O valor do seu imposto é R$ 300.0\n"
          ]
        }
      ]
    },
    {
      "cell_type": "markdown",
      "source": [
        "Camila, essa questão dos salários não to entendendo pq ele só lê as instruções da primeira celula print, e calcula com base nela. "
      ],
      "metadata": {
        "id": "bF3_dm5V9gdb"
      }
    },
    {
      "cell_type": "code",
      "source": [
        "cargo=input(\"Digite o nome ou código do cargo: \")\n",
        "salario=float(input(\"Digite aqui o seu salário: \"))\n",
        "if (cargo == \"Gerente\" or \"gerente\" or \"101\"):\n",
        "    print(salario, salario+(salario*10/100), salario+(salario*10/100)-salario)\n",
        "elif (cargo == \"Engenheiro\" or \"engenheiro\" or \"102\"):\n",
        "    print(salario, salario+(salario*20/100), salario+(salario*20/100)-salario)\n",
        "elif (cargo == \"Técnico\" or \"tecnico\" or \"técnico\" or \"103\"):\n",
        "    print(salario, salario+(salario*30/100), salario+(salario*30/100)-salario)\n",
        "else:\n",
        "    print(salario, salario+(salario*40/100), salario+(salario*40/100)-salario)\n",
        "\n"
      ],
      "metadata": {
        "colab": {
          "base_uri": "https://localhost:8080/"
        },
        "id": "kduDj7l1-8TU",
        "outputId": "1561cdef-8231-4c13-ec6d-f3e47c1748f1"
      },
      "execution_count": 176,
      "outputs": [
        {
          "output_type": "stream",
          "name": "stdout",
          "text": [
            "Digite o nome ou código do cargo: 1200\n",
            "Digite aqui o seu salário: 800\n",
            "800.0 880.0 80.0\n"
          ]
        }
      ]
    },
    {
      "cell_type": "markdown",
      "source": [
        "Tive o mesmo problema da questão anterior com essa outra questão."
      ],
      "metadata": {
        "id": "ebkyyla2Ewas"
      }
    },
    {
      "cell_type": "code",
      "source": [
        "\n",
        "maior=float(input(\"Digite o maior saldo: \"))\n",
        "menor=float(input(\"Digite aqui o menor saldo: \"))\n",
        "saldomedio=(maior + menor)/2\n",
        "if (saldomedio <= 200.00):\n",
        "    print(\"Nenhum crédito disponível\")\n",
        "elif (saldomedio > 200.00 <= 400.00):\n",
        "    print(\"Seu crédito disponível é R$\", (saldomedio*20/100))\n",
        "elif (saldomedio > 400.00 <= 600.00):\n",
        "    print(\"Seu crédito disponível é R$\", (saldomedio*30/100))\n",
        "else:\n",
        "    print(\"Seu crédito disponível é R$\", (saldomedio*40/100))\n",
        "\n"
      ],
      "metadata": {
        "id": "9eD28lu-AgMH",
        "colab": {
          "base_uri": "https://localhost:8080/"
        },
        "outputId": "fbd1d3f2-a901-4b07-c709-786e95dd97b1"
      },
      "execution_count": 190,
      "outputs": [
        {
          "output_type": "stream",
          "name": "stdout",
          "text": [
            "Digite o maior saldo: 1000\n",
            "Digite aqui o menor saldo: 2000\n",
            "Seu crédito disponível é R$ 300.0\n"
          ]
        }
      ]
    }
  ]
}