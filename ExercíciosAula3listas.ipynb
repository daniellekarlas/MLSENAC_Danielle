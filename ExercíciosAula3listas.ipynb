{
  "nbformat": 4,
  "nbformat_minor": 0,
  "metadata": {
    "colab": {
      "provenance": [],
      "authorship_tag": "ABX9TyOtgSUw4kWDmmUekZvFRkvo",
      "include_colab_link": true
    },
    "kernelspec": {
      "name": "python3",
      "display_name": "Python 3"
    },
    "language_info": {
      "name": "python"
    }
  },
  "cells": [
    {
      "cell_type": "markdown",
      "metadata": {
        "id": "view-in-github",
        "colab_type": "text"
      },
      "source": [
        "<a href=\"https://colab.research.google.com/github/daniellekarlas/MLSENAC_Danielle/blob/main/Exerc%C3%ADciosAula3listas.ipynb\" target=\"_parent\"><img src=\"https://colab.research.google.com/assets/colab-badge.svg\" alt=\"Open In Colab\"/></a>"
      ]
    },
    {
      "cell_type": "markdown",
      "source": [
        "1. Digite os comandos na sequência"
      ],
      "metadata": {
        "id": "kNeE5zJ7p8-_"
      }
    },
    {
      "cell_type": "code",
      "execution_count": null,
      "metadata": {
        "id": "oHpz1jxku_FW"
      },
      "outputs": [],
      "source": [
        "palavras=[\"código\", \"linguagem\", \"web\"]"
      ]
    },
    {
      "cell_type": "code",
      "source": [
        "numeros=[18, 123]"
      ],
      "metadata": {
        "id": "vR9rDNEGvokN"
      },
      "execution_count": null,
      "outputs": []
    },
    {
      "cell_type": "code",
      "source": [
        "vazia=[]"
      ],
      "metadata": {
        "id": "okviIbnTvvLO"
      },
      "execution_count": null,
      "outputs": []
    },
    {
      "cell_type": "code",
      "source": [
        "lista_mista=[\"oi\", 2.0, 5*2, [10,20]]"
      ],
      "metadata": {
        "id": "iwr4aLEtvuOL"
      },
      "execution_count": null,
      "outputs": []
    },
    {
      "cell_type": "markdown",
      "source": [
        "1. Digite os comandos na sequência"
      ],
      "metadata": {
        "id": "muYRnbVwqEaM"
      }
    },
    {
      "cell_type": "code",
      "source": [
        "print(numeros)"
      ],
      "metadata": {
        "colab": {
          "base_uri": "https://localhost:8080/"
        },
        "id": "CSLKA1oNvuRO",
        "outputId": "1dbe5fcd-20a2-4f1d-b64c-6b53a7def7c8"
      },
      "execution_count": null,
      "outputs": [
        {
          "output_type": "stream",
          "name": "stdout",
          "text": [
            "[18, 123]\n"
          ]
        }
      ]
    },
    {
      "cell_type": "code",
      "source": [
        "print(lista_mista)"
      ],
      "metadata": {
        "colab": {
          "base_uri": "https://localhost:8080/"
        },
        "id": "OuAzl4e8vuXQ",
        "outputId": "07917e17-9fa1-4aad-dd06-d6e6f7cb909a"
      },
      "execution_count": null,
      "outputs": [
        {
          "output_type": "stream",
          "name": "stdout",
          "text": [
            "['oi', 2.0, 10, [10, 20]]\n"
          ]
        }
      ]
    },
    {
      "cell_type": "code",
      "source": [
        "nova_lista=[numeros, palavras]"
      ],
      "metadata": {
        "id": "MLBIJNO6wFMY"
      },
      "execution_count": null,
      "outputs": []
    },
    {
      "cell_type": "code",
      "source": [
        "print(nova_lista)"
      ],
      "metadata": {
        "colab": {
          "base_uri": "https://localhost:8080/"
        },
        "id": "AbwedNJOwFQk",
        "outputId": "17541b85-0ac4-4c31-ee68-afeba85622fa"
      },
      "execution_count": null,
      "outputs": [
        {
          "output_type": "stream",
          "name": "stdout",
          "text": [
            "[[18, 123], ['código', 'linguagem', 'web']]\n"
          ]
        }
      ]
    },
    {
      "cell_type": "markdown",
      "source": [
        "2. Digite os comandos na sequência"
      ],
      "metadata": {
        "id": "fZ_WI72RrKHl"
      }
    },
    {
      "cell_type": "code",
      "source": [
        "uma_lista=[\"oi\", 2.0, 5, [10,20]]"
      ],
      "metadata": {
        "id": "RvD1zNCswFUg"
      },
      "execution_count": null,
      "outputs": []
    },
    {
      "cell_type": "code",
      "source": [
        "print(uma_lista)"
      ],
      "metadata": {
        "colab": {
          "base_uri": "https://localhost:8080/"
        },
        "id": "MH2eyLdLwFcc",
        "outputId": "0d920d9d-cc1d-4470-8dd4-0ee2dee08029"
      },
      "execution_count": null,
      "outputs": [
        {
          "output_type": "stream",
          "name": "stdout",
          "text": [
            "['oi', 2.0, 5, [10, 20]]\n"
          ]
        }
      ]
    },
    {
      "cell_type": "code",
      "source": [
        "print(len([\"spam!\", 1, [\"bolo\", \"bolacha\", \"biscoito\"], [1,2,3]]))"
      ],
      "metadata": {
        "colab": {
          "base_uri": "https://localhost:8080/"
        },
        "id": "HyyHoYzYwflK",
        "outputId": "4fe76ac0-b526-48c7-dc4d-f1e4f78748a4"
      },
      "execution_count": null,
      "outputs": [
        {
          "output_type": "stream",
          "name": "stdout",
          "text": [
            "4\n"
          ]
        }
      ]
    },
    {
      "cell_type": "markdown",
      "source": [
        "3. O que é impresso pelo trecho de código a seguir?\n",
        "\n"
      ],
      "metadata": {
        "id": "L588Px8nw6Ec"
      }
    },
    {
      "cell_type": "code",
      "source": [
        "numeros=[18,424,86,13,66,8338,74]"
      ],
      "metadata": {
        "id": "Fu6R0AuUwfgN"
      },
      "execution_count": null,
      "outputs": []
    },
    {
      "cell_type": "code",
      "source": [
        "print(numeros[2]) #esse comando está mostrando o número que está no índice 2, no caso o número 86"
      ],
      "metadata": {
        "colab": {
          "base_uri": "https://localhost:8080/"
        },
        "id": "P8SObCeqwfac",
        "outputId": "992fe88f-37c7-43b6-fb40-cb19585b475d"
      },
      "execution_count": null,
      "outputs": [
        {
          "output_type": "stream",
          "name": "stdout",
          "text": [
            "86\n"
          ]
        }
      ]
    },
    {
      "cell_type": "code",
      "source": [
        "print(numeros[9-8]) #esse comando está mostrando o número que está no índice 1 que\n",
        " ###é o resultado da subtração de 9-8, nesse caso o número é 424"
      ],
      "metadata": {
        "colab": {
          "base_uri": "https://localhost:8080/"
        },
        "id": "xS59F-wPwfWQ",
        "outputId": "cbd016cf-ad23-4eab-e342-ea026f156ab3"
      },
      "execution_count": null,
      "outputs": [
        {
          "output_type": "stream",
          "name": "stdout",
          "text": [
            "424\n"
          ]
        }
      ]
    },
    {
      "cell_type": "code",
      "source": [
        "print(numeros[-2]) #esse comando está mostrando o número que está no índice -2 que\n",
        " ### nesse caso o número é 8338"
      ],
      "metadata": {
        "colab": {
          "base_uri": "https://localhost:8080/"
        },
        "id": "NB8fG7n3wfSL",
        "outputId": "fc51f47e-0b8a-443e-9261-221117f93a93"
      },
      "execution_count": null,
      "outputs": [
        {
          "output_type": "stream",
          "name": "stdout",
          "text": [
            "8338\n"
          ]
        }
      ]
    },
    {
      "cell_type": "code",
      "source": [
        "print(numeros[len(numeros)-1]) #esse comando está mostrando o número que foi desconsiderado da lista"
      ],
      "metadata": {
        "colab": {
          "base_uri": "https://localhost:8080/"
        },
        "id": "szc7ai3_wfON",
        "outputId": "2860c22e-27b8-43de-b640-08336c4942a4"
      },
      "execution_count": null,
      "outputs": [
        {
          "output_type": "stream",
          "name": "stdout",
          "text": [
            "74\n"
          ]
        }
      ]
    },
    {
      "cell_type": "markdown",
      "source": [
        "4. O que é impresso pelo trecho de código a seguir?"
      ],
      "metadata": {
        "id": "SokWaMPEzXiZ"
      }
    },
    {
      "cell_type": "code",
      "source": [
        "uma_lista=[3, 5, \"Cibele\", 3.14, False]"
      ],
      "metadata": {
        "id": "yOJxZ1lxzNlO"
      },
      "execution_count": null,
      "outputs": []
    },
    {
      "cell_type": "code",
      "source": [
        "print(len(uma_lista)) #esse comando está mostrando quantas elementos tem na lista"
      ],
      "metadata": {
        "colab": {
          "base_uri": "https://localhost:8080/"
        },
        "id": "CHVzsiftzNgi",
        "outputId": "fc888bbe-12f7-4b97-d7fd-fa61a01cca09"
      },
      "execution_count": null,
      "outputs": [
        {
          "output_type": "stream",
          "name": "stdout",
          "text": [
            "5\n"
          ]
        }
      ]
    },
    {
      "cell_type": "markdown",
      "source": [
        "5. O que é impresso pelo trecho de código a seguir?"
      ],
      "metadata": {
        "id": "1IfeTs_qzx5f"
      }
    },
    {
      "cell_type": "code",
      "source": [
        "uma_lista=[3, 5, \"Cibele\", [88, 99, \"Suely\"],[], 3.14, False]"
      ],
      "metadata": {
        "id": "cGxo9k8OzNcR"
      },
      "execution_count": null,
      "outputs": []
    },
    {
      "cell_type": "code",
      "source": [
        "print(len(uma_lista)) #esse comando está mostrando quantas elementos tem na lista"
      ],
      "metadata": {
        "colab": {
          "base_uri": "https://localhost:8080/"
        },
        "id": "KEV0JcJFzNXz",
        "outputId": "24690eed-68d0-499c-d72a-fba1abff7cf4"
      },
      "execution_count": null,
      "outputs": [
        {
          "output_type": "stream",
          "name": "stdout",
          "text": [
            "7\n"
          ]
        }
      ]
    },
    {
      "cell_type": "markdown",
      "source": [
        "6. O que é impresso pelo trecho de código a seguir?"
      ],
      "metadata": {
        "id": "zzmX9aRI0fNP"
      }
    },
    {
      "cell_type": "code",
      "source": [
        "uma_lista=[3, 5, \"Cibele\", [88, 99, \"Suely\"],[], 3.14, False]"
      ],
      "metadata": {
        "id": "Bmf6ng4ez0zm"
      },
      "execution_count": null,
      "outputs": []
    },
    {
      "cell_type": "code",
      "source": [
        "print(uma_lista[5]) #esse comando está mostra o elemento que está no índice 5 "
      ],
      "metadata": {
        "colab": {
          "base_uri": "https://localhost:8080/"
        },
        "id": "fxsDWbKJz0ud",
        "outputId": "700603e1-4fe5-4b80-cf72-72e7e4e542e7"
      },
      "execution_count": null,
      "outputs": [
        {
          "output_type": "stream",
          "name": "stdout",
          "text": [
            "3.14\n"
          ]
        }
      ]
    },
    {
      "cell_type": "markdown",
      "source": [
        "7. O que é impresso pelo trecho de código a seguir?"
      ],
      "metadata": {
        "id": "hysmD65m1TzQ"
      }
    },
    {
      "cell_type": "code",
      "source": [
        "uma_lista=[3, 5, \"Cibele\", [88, 99, \"Suely\"], [], 3.14, False]"
      ],
      "metadata": {
        "id": "nNtAhtnP1WXH"
      },
      "execution_count": null,
      "outputs": []
    },
    {
      "cell_type": "code",
      "source": [
        "print(uma_lista[2].upper()) #esse comando está mostrando o elemento que está no índice 2 e a função upper fez com\n",
        "## que todos os caracteres da string ficassem maiúsculas."
      ],
      "metadata": {
        "colab": {
          "base_uri": "https://localhost:8080/"
        },
        "id": "rkmlQ2s02RvS",
        "outputId": "0da14ad5-c442-494c-8bb1-dee16fe3444a"
      },
      "execution_count": null,
      "outputs": [
        {
          "output_type": "stream",
          "name": "stdout",
          "text": [
            "CIBELE\n"
          ]
        }
      ]
    },
    {
      "cell_type": "markdown",
      "source": [
        "8. O que é impresso pelo trecho de código a seguir?"
      ],
      "metadata": {
        "id": "vgAEcfd12sy2"
      }
    },
    {
      "cell_type": "code",
      "source": [
        "uma_lista=[3, 5, \"Cibele\", [88, 99, \"Suely\"],[], 3.14, False]"
      ],
      "metadata": {
        "id": "u7r7HMOR2uss"
      },
      "execution_count": null,
      "outputs": []
    },
    {
      "cell_type": "code",
      "source": [
        "print(uma_lista[2][0]) #esse comando está mostrando o elemento que está no índice 0 do elemento 2. No caso, a letra C."
      ],
      "metadata": {
        "colab": {
          "base_uri": "https://localhost:8080/"
        },
        "id": "RfgraLHa2vTd",
        "outputId": "f3d9da87-3a7b-470d-d6ec-4b6de963b72c"
      },
      "execution_count": null,
      "outputs": [
        {
          "output_type": "stream",
          "name": "stdout",
          "text": [
            "C\n"
          ]
        }
      ]
    },
    {
      "cell_type": "markdown",
      "source": [
        "9. O que é impresso pelo trecho de código a seguir?"
      ],
      "metadata": {
        "id": "zCn-PqlxQVCH"
      }
    },
    {
      "cell_type": "code",
      "source": [
        "uma_lista = [3, 5, \"Cibele\", [88, 99, \"Suely\"], [], 3.14, False]"
      ],
      "metadata": {
        "id": "9D3rjsSK61p7"
      },
      "execution_count": null,
      "outputs": []
    },
    {
      "cell_type": "code",
      "source": [
        "print(3.14 in uma_lista) ## esse comando verifica se há o elemento dentro da lista"
      ],
      "metadata": {
        "id": "-yHWUxRvQjQu",
        "colab": {
          "base_uri": "https://localhost:8080/"
        },
        "outputId": "2d3664cb-c393-47fd-bd9f-d1ee154247d3"
      },
      "execution_count": null,
      "outputs": [
        {
          "output_type": "stream",
          "name": "stdout",
          "text": [
            "True\n"
          ]
        }
      ]
    },
    {
      "cell_type": "markdown",
      "source": [
        "10. O que é impresso pelo trecho de código a seguir?"
      ],
      "metadata": {
        "id": "yIc24cwTR4Rh"
      }
    },
    {
      "cell_type": "code",
      "source": [
        "uma_lista=[3, 5, \"Cibele\", [88, 99, \"Suely\"], [], 3.14, False]"
      ],
      "metadata": {
        "id": "IUD0NJgWSGoC"
      },
      "execution_count": null,
      "outputs": []
    },
    {
      "cell_type": "code",
      "source": [
        "print(88 in uma_lista) #verifica se o elemento está dentro da lista, nesse caso foi falso, pq é uma lista dentro de outra."
      ],
      "metadata": {
        "colab": {
          "base_uri": "https://localhost:8080/"
        },
        "id": "Y_OmUMDpSWhh",
        "outputId": "dbde9cb3-039d-4f84-9dc3-82aeaae82e34"
      },
      "execution_count": null,
      "outputs": [
        {
          "output_type": "stream",
          "name": "stdout",
          "text": [
            "False\n"
          ]
        }
      ]
    },
    {
      "cell_type": "markdown",
      "source": [
        "11. O que é impresso pelo trecho de código a seguir?"
      ],
      "metadata": {
        "id": "SED9nJIvS7iy"
      }
    },
    {
      "cell_type": "code",
      "source": [
        "uma_lista=[1, 3, 5] "
      ],
      "metadata": {
        "id": "78sRJEG6S5aW"
      },
      "execution_count": null,
      "outputs": []
    },
    {
      "cell_type": "code",
      "source": [
        "outra_lista=[2, 4, 6] "
      ],
      "metadata": {
        "id": "TTEL72M3TF-M"
      },
      "execution_count": null,
      "outputs": []
    },
    {
      "cell_type": "code",
      "source": [
        "print(uma_lista+outra_lista) ###foram criadas duas listas e no print as duas listas foram concatenadas"
      ],
      "metadata": {
        "colab": {
          "base_uri": "https://localhost:8080/"
        },
        "id": "BOPEu3p4TLNL",
        "outputId": "aa21de83-94ed-4492-e96a-a0df8c65e533"
      },
      "execution_count": null,
      "outputs": [
        {
          "output_type": "stream",
          "name": "stdout",
          "text": [
            "[1, 3, 5, 2, 4, 6]\n"
          ]
        }
      ]
    },
    {
      "cell_type": "markdown",
      "source": [
        "12. O que é impresso pelo trecho de código a seguir?"
      ],
      "metadata": {
        "id": "Rz0cREb7ThjS"
      }
    },
    {
      "cell_type": "code",
      "source": [
        "uma_lista=[1,3,5]"
      ],
      "metadata": {
        "id": "jUh-zX6MTlm-"
      },
      "execution_count": null,
      "outputs": []
    },
    {
      "cell_type": "code",
      "source": [
        "print(uma_lista*3) ### com esse comando a lista foi repetida 3 vezes"
      ],
      "metadata": {
        "colab": {
          "base_uri": "https://localhost:8080/"
        },
        "id": "HCuoBJUxTqGE",
        "outputId": "0d6426c2-d879-4bc1-bc12-6f1cb692adb6"
      },
      "execution_count": null,
      "outputs": [
        {
          "output_type": "stream",
          "name": "stdout",
          "text": [
            "[1, 3, 5, 1, 3, 5, 1, 3, 5]\n"
          ]
        }
      ]
    },
    {
      "cell_type": "markdown",
      "source": [
        "13. o que é impresso pelo trecho de código a seguir?"
      ],
      "metadata": {
        "id": "Nc7L1Sk_T0or"
      }
    },
    {
      "cell_type": "code",
      "source": [
        "uma_lista=[3, 5, \"Cibele\", [88, 99, \"Suely\"], [], 3.14, False]"
      ],
      "metadata": {
        "id": "QaImcuNGT_ZA"
      },
      "execution_count": null,
      "outputs": []
    },
    {
      "cell_type": "code",
      "source": [
        "print(uma_lista[4:]) ###ele mostra os elementos da lista a partir do indice 4 até o final "
      ],
      "metadata": {
        "colab": {
          "base_uri": "https://localhost:8080/"
        },
        "id": "pWxaT1roUKOB",
        "outputId": "5d0009cd-4569-47ca-9824-4bb868f28fad"
      },
      "execution_count": null,
      "outputs": [
        {
          "output_type": "stream",
          "name": "stdout",
          "text": [
            "[[], 3.14, False]\n"
          ]
        }
      ]
    },
    {
      "cell_type": "markdown",
      "source": [
        "14. o que é impresso pelo trecho de código a seguir?"
      ],
      "metadata": {
        "id": "nflz7Z4iUdI2"
      }
    },
    {
      "cell_type": "code",
      "source": [
        "uma_lista=[\"a\", \"b\", \"c\", \"d\", \"e\", \"f\"]"
      ],
      "metadata": {
        "id": "gZUG3G4uUbZY"
      },
      "execution_count": null,
      "outputs": []
    },
    {
      "cell_type": "code",
      "source": [
        "uma_lista[1:3]=[\"x\", \"y\"] ##esse comando inseriu os elementos x e y na lista comecando entre os índices 1-3. Nesse caso,\n",
        "# substituiu o b e c por x e y. "
      ],
      "metadata": {
        "id": "SThS1WKAUwRr"
      },
      "execution_count": null,
      "outputs": []
    },
    {
      "cell_type": "code",
      "source": [
        "print(uma_lista) ###mostrou a lista "
      ],
      "metadata": {
        "colab": {
          "base_uri": "https://localhost:8080/"
        },
        "id": "WioKiUwlU7i7",
        "outputId": "2a447237-9cbc-45dc-96f6-4b337900ea2a"
      },
      "execution_count": null,
      "outputs": [
        {
          "output_type": "stream",
          "name": "stdout",
          "text": [
            "['a', 'x', 'y', 'd', 'e', 'f']\n"
          ]
        }
      ]
    },
    {
      "cell_type": "markdown",
      "source": [
        "15. o que é impresso pelo trecho de código a seguir?"
      ],
      "metadata": {
        "id": "1uzQ6GwxVd2_"
      }
    },
    {
      "cell_type": "code",
      "source": [
        "uma_lista=[\"a\", \"b\", \"c\", \"d\", \"e\", \"f\"]"
      ],
      "metadata": {
        "id": "NxKBYWDWVgJA"
      },
      "execution_count": null,
      "outputs": []
    },
    {
      "cell_type": "code",
      "source": [
        "uma_lista[1:3]=[] ###criou uma lista com os elementos, mas fiquei com dúvida. achei que ele começaria do item 1 (b). "
      ],
      "metadata": {
        "id": "zxX58wy9VrjY"
      },
      "execution_count": null,
      "outputs": []
    },
    {
      "cell_type": "code",
      "source": [
        "print(uma_lista)"
      ],
      "metadata": {
        "colab": {
          "base_uri": "https://localhost:8080/"
        },
        "id": "dCnn2YvOVwgx",
        "outputId": "45950647-fc5d-4e4f-9fa8-94b3823b161a"
      },
      "execution_count": null,
      "outputs": [
        {
          "output_type": "stream",
          "name": "stdout",
          "text": [
            "['a', 'd', 'e', 'f']\n"
          ]
        }
      ]
    },
    {
      "cell_type": "markdown",
      "source": [
        "16. o que é impresso pelo trecho de código a seguir?"
      ],
      "metadata": {
        "id": "OEPrUG5YYR1y"
      }
    },
    {
      "cell_type": "code",
      "source": [
        "uma_lista=[\"a\", \"d\", \"f\"]"
      ],
      "metadata": {
        "id": "NZn2MYHPYVRP"
      },
      "execution_count": null,
      "outputs": []
    },
    {
      "cell_type": "code",
      "source": [
        "uma_lista[1:1]=[\"b\", \"c\"] ##esse comando adicionou os elementos b e c na posição do índice 1. Quando determinamos o índice, \n",
        "## ele não substitui o elemento que está na lista e acrescenta."
      ],
      "metadata": {
        "id": "6muNqFM1Ydkj"
      },
      "execution_count": null,
      "outputs": []
    },
    {
      "cell_type": "code",
      "source": [
        "print(uma_lista)"
      ],
      "metadata": {
        "colab": {
          "base_uri": "https://localhost:8080/"
        },
        "id": "GHVwQMFkYl3z",
        "outputId": "ae5e9136-351d-465f-d036-207bd6cd1c46"
      },
      "execution_count": null,
      "outputs": [
        {
          "output_type": "stream",
          "name": "stdout",
          "text": [
            "['a', 'b', 'c', 'd', 'f']\n"
          ]
        }
      ]
    },
    {
      "cell_type": "code",
      "source": [
        "uma_lista[4:4]=[\"e\"] ##esse comando adicionou o elemento \"e\" na posição do índice 4. "
      ],
      "metadata": {
        "id": "JGKHPWSgY6Jc"
      },
      "execution_count": null,
      "outputs": []
    },
    {
      "cell_type": "code",
      "source": [
        "print(uma_lista)"
      ],
      "metadata": {
        "colab": {
          "base_uri": "https://localhost:8080/"
        },
        "id": "1KpBplC4ZBxE",
        "outputId": "f4d8903b-f365-4ebe-b8b5-ecc0a7c6397f"
      },
      "execution_count": null,
      "outputs": [
        {
          "output_type": "stream",
          "name": "stdout",
          "text": [
            "['a', 'b', 'c', 'd', 'e', 'f']\n"
          ]
        }
      ]
    },
    {
      "cell_type": "markdown",
      "source": [
        "17. O que é impresso pelo trecho de código a seguir?"
      ],
      "metadata": {
        "id": "A3R_v-CdY4cw"
      }
    },
    {
      "cell_type": "code",
      "source": [
        "uma_lista=[4, 1, 8, 6, 3]"
      ],
      "metadata": {
        "id": "fztJCF_mZaGK"
      },
      "execution_count": null,
      "outputs": []
    },
    {
      "cell_type": "code",
      "source": [
        "uma_lista[2]=True ###quando colocamos só a posição do índice, ele substitui o elemento que estava nessa posição."
      ],
      "metadata": {
        "id": "f-dqZPeEZga-"
      },
      "execution_count": null,
      "outputs": []
    },
    {
      "cell_type": "code",
      "source": [
        "print(uma_lista)"
      ],
      "metadata": {
        "colab": {
          "base_uri": "https://localhost:8080/"
        },
        "id": "PBBBq4oGbUxV",
        "outputId": "127632b9-c19f-4d97-ef41-7ae91580dcb7"
      },
      "execution_count": null,
      "outputs": [
        {
          "output_type": "stream",
          "name": "stdout",
          "text": [
            "[4, 1, True, 6, 3]\n"
          ]
        }
      ]
    },
    {
      "cell_type": "markdown",
      "source": [
        "18. O que é impresso pelo trecho de código a seguir?"
      ],
      "metadata": {
        "id": "TQyBsVr_b1dI"
      }
    },
    {
      "cell_type": "code",
      "source": [
        "a=[\"um\", \"dois\", \"três\"]"
      ],
      "metadata": {
        "id": "_CzJQ9J-b9Vp"
      },
      "execution_count": null,
      "outputs": []
    },
    {
      "cell_type": "code",
      "source": [
        "del a [1] # deleta o elemento que está no índice 2"
      ],
      "metadata": {
        "id": "UXonyp6tcFrF"
      },
      "execution_count": null,
      "outputs": []
    },
    {
      "cell_type": "code",
      "source": [
        "print(a) #mostrou a lista com o item deletado "
      ],
      "metadata": {
        "colab": {
          "base_uri": "https://localhost:8080/"
        },
        "id": "-Wohr-UfcJjy",
        "outputId": "7ad0d64a-64c9-4009-b6b9-5399048f876b"
      },
      "execution_count": null,
      "outputs": [
        {
          "output_type": "stream",
          "name": "stdout",
          "text": [
            "['um', 'três']\n"
          ]
        }
      ]
    },
    {
      "cell_type": "code",
      "source": [
        "lista=[\"a\", \"b\", \"c\", \"d\", \"e\", \"f\"]"
      ],
      "metadata": {
        "id": "C1jZrpGjcV6v"
      },
      "execution_count": null,
      "outputs": []
    },
    {
      "cell_type": "code",
      "source": [
        "del lista[1:5] ##deleta os elementos da lista que estão entre os índices 1 até 5, como o item 5 é o limite ele vai \n",
        "# até um índice antes, no caso o índice 4"
      ],
      "metadata": {
        "id": "wEoutRnUcf5E"
      },
      "execution_count": null,
      "outputs": []
    },
    {
      "cell_type": "code",
      "source": [
        "print(lista)"
      ],
      "metadata": {
        "colab": {
          "base_uri": "https://localhost:8080/"
        },
        "id": "LhY7BSoockKH",
        "outputId": "426000ec-a3fa-485e-e89e-e1bc1293ff78"
      },
      "execution_count": null,
      "outputs": [
        {
          "output_type": "stream",
          "name": "stdout",
          "text": [
            "['a', 'f']\n"
          ]
        }
      ]
    },
    {
      "cell_type": "markdown",
      "source": [
        "19. O que é impresso pelo trecho de código a seguir?"
      ],
      "metadata": {
        "id": "kWspT3AEdE2D"
      }
    },
    {
      "cell_type": "code",
      "source": [
        "lista_a=[4, 1, 8, 6, 3]"
      ],
      "metadata": {
        "id": "vkWIDlV6dLeL"
      },
      "execution_count": null,
      "outputs": []
    },
    {
      "cell_type": "code",
      "source": [
        "lista_b=lista_a ## declara que a lista b é igual a lista a"
      ],
      "metadata": {
        "id": "tKs7YzgVdQ23"
      },
      "execution_count": null,
      "outputs": []
    },
    {
      "cell_type": "code",
      "source": [
        "lista_b[3]=22 ## modificou o elemento do índice 3 por 22"
      ],
      "metadata": {
        "id": "fSUsV1uBdXZY"
      },
      "execution_count": null,
      "outputs": []
    },
    {
      "cell_type": "code",
      "source": [
        "print(lista_a) ## como as listas são iguais a modificação que foi feita na b foi aplicada a lista a"
      ],
      "metadata": {
        "colab": {
          "base_uri": "https://localhost:8080/"
        },
        "id": "xWFgimvQdcMi",
        "outputId": "de1e3e6f-497f-4447-fd6b-824219eb3c40"
      },
      "execution_count": null,
      "outputs": [
        {
          "output_type": "stream",
          "name": "stdout",
          "text": [
            "[4, 1, 8, 22, 3]\n"
          ]
        }
      ]
    },
    {
      "cell_type": "markdown",
      "source": [
        "20. O que é impresso pelo trecho de código a seguir?"
      ],
      "metadata": {
        "id": "-iwQYFn0d7SV"
      }
    },
    {
      "cell_type": "code",
      "source": [
        "lista_original=[5, 6, 7, 8]"
      ],
      "metadata": {
        "id": "ruTAIHOKd-nN"
      },
      "execution_count": null,
      "outputs": []
    },
    {
      "cell_type": "code",
      "source": [
        "print(lista_original*3) ## repetiu a lista 3 vezes"
      ],
      "metadata": {
        "colab": {
          "base_uri": "https://localhost:8080/"
        },
        "id": "AJoBQ9zDeELu",
        "outputId": "aa406960-02e0-40c2-b7df-c2a83ccb0e92"
      },
      "execution_count": null,
      "outputs": [
        {
          "output_type": "stream",
          "name": "stdout",
          "text": [
            "[5, 6, 7, 8, 5, 6, 7, 8, 5, 6, 7, 8]\n"
          ]
        }
      ]
    },
    {
      "cell_type": "markdown",
      "source": [
        "21. O que é impresso pelo trecho de código a seguir?"
      ],
      "metadata": {
        "id": "Rxw0k5KyeMfe"
      }
    },
    {
      "cell_type": "code",
      "source": [
        "lista_original=[5, 6, 7, 8] "
      ],
      "metadata": {
        "id": "L4R8w9AWeP3O"
      },
      "execution_count": null,
      "outputs": []
    },
    {
      "cell_type": "code",
      "source": [
        "print(lista_original*3) ##repetiu 3 vezes os elementos da lista "
      ],
      "metadata": {
        "colab": {
          "base_uri": "https://localhost:8080/"
        },
        "id": "gsXDYRQieVVI",
        "outputId": "eaaca4e7-a032-48ca-dda3-89937b29c04e"
      },
      "execution_count": null,
      "outputs": [
        {
          "output_type": "stream",
          "name": "stdout",
          "text": [
            "[5, 6, 7, 8, 5, 6, 7, 8, 5, 6, 7, 8]\n"
          ]
        }
      ]
    },
    {
      "cell_type": "code",
      "source": [
        "lista_nova=[lista_original]*3 # criou 3 listas com os elementos da lista_original "
      ],
      "metadata": {
        "id": "Hyy9K9hWeaZx"
      },
      "execution_count": null,
      "outputs": []
    },
    {
      "cell_type": "code",
      "source": [
        "print(lista_nova)"
      ],
      "metadata": {
        "colab": {
          "base_uri": "https://localhost:8080/"
        },
        "id": "BZ8Ko7fBehC6",
        "outputId": "51581b93-c4fc-480a-abc4-1b07ae01a79f"
      },
      "execution_count": null,
      "outputs": [
        {
          "output_type": "stream",
          "name": "stdout",
          "text": [
            "[[5, 6, 7, 8], [5, 6, 7, 8], [5, 6, 7, 8]]\n"
          ]
        }
      ]
    },
    {
      "cell_type": "markdown",
      "source": [
        "22. O que é impresso pelo trecho de código a seguir?"
      ],
      "metadata": {
        "id": "fMWgQ9ZXgRCM"
      }
    },
    {
      "cell_type": "code",
      "source": [
        "lista_original=[5, 6, 7, 8]"
      ],
      "metadata": {
        "id": "HUsz-1CagTFM"
      },
      "execution_count": null,
      "outputs": []
    },
    {
      "cell_type": "code",
      "source": [
        "lista_nova=[lista_original]*3 ##foram criadas 3 listas com os elementos na lista original"
      ],
      "metadata": {
        "id": "UAUeDrO3gcmR"
      },
      "execution_count": null,
      "outputs": []
    },
    {
      "cell_type": "code",
      "source": [
        "print(lista_nova)"
      ],
      "metadata": {
        "colab": {
          "base_uri": "https://localhost:8080/"
        },
        "id": "gq99UMLQgiYY",
        "outputId": "94dd0212-f242-4635-b499-6bca958107f3"
      },
      "execution_count": null,
      "outputs": [
        {
          "output_type": "stream",
          "name": "stdout",
          "text": [
            "[[5, 6, 7, 8], [5, 6, 7, 8], [5, 6, 7, 8]]\n"
          ]
        }
      ]
    },
    {
      "cell_type": "code",
      "source": [
        "lista_original[1]=22 ## o elemento do índice 1 foi modificado de 6 para 22"
      ],
      "metadata": {
        "id": "soUL8dtGgmqn"
      },
      "execution_count": null,
      "outputs": []
    },
    {
      "cell_type": "code",
      "source": [
        "print(lista_nova)"
      ],
      "metadata": {
        "colab": {
          "base_uri": "https://localhost:8080/"
        },
        "id": "i30FntOygrxS",
        "outputId": "4f37b4e1-867e-47c4-c970-0487e6d60e3a"
      },
      "execution_count": null,
      "outputs": [
        {
          "output_type": "stream",
          "name": "stdout",
          "text": [
            "[[5, 22, 7, 8], [5, 22, 7, 8], [5, 22, 7, 8]]\n"
          ]
        }
      ]
    },
    {
      "cell_type": "markdown",
      "source": [
        "23. O que é impresso pelo trecho de código a seguir?"
      ],
      "metadata": {
        "id": "yfVPj7sahGMy"
      }
    },
    {
      "cell_type": "code",
      "source": [
        "lista_a=[4, 1, 8, 6, 3]"
      ],
      "metadata": {
        "id": "Ht_gaQRXhVfK"
      },
      "execution_count": null,
      "outputs": []
    },
    {
      "cell_type": "code",
      "source": [
        "lista_b=lista_a*2 #criei uma única lista com os elementos da lista_a duplicados"
      ],
      "metadata": {
        "id": "s0NCjLH3hbl2"
      },
      "execution_count": null,
      "outputs": []
    },
    {
      "cell_type": "code",
      "source": [
        "lista_b[3]=35 ## com esse comando o elemento do índice 3 foi modificado apenas na lista_b"
      ],
      "metadata": {
        "id": "IFyNi0flhg5k"
      },
      "execution_count": null,
      "outputs": []
    },
    {
      "cell_type": "code",
      "source": [
        "print(lista_a)"
      ],
      "metadata": {
        "colab": {
          "base_uri": "https://localhost:8080/"
        },
        "id": "8yY_OgEvhlN4",
        "outputId": "e23785c5-12fe-4c0e-f29e-4fc4c13ad17d"
      },
      "execution_count": null,
      "outputs": [
        {
          "output_type": "stream",
          "name": "stdout",
          "text": [
            "[4, 1, 8, 6, 3]\n"
          ]
        }
      ]
    },
    {
      "cell_type": "markdown",
      "source": [
        "24. O que é impresso pelo trecho de código a seguir?"
      ],
      "metadata": {
        "id": "2j44vNKribQN"
      }
    },
    {
      "cell_type": "code",
      "source": [
        "lista_a=[4, 1, 8, 6, 3]"
      ],
      "metadata": {
        "id": "GJcomOfFidoZ"
      },
      "execution_count": null,
      "outputs": []
    },
    {
      "cell_type": "code",
      "source": [
        "lista_b=[lista_a]*2 ## a lista_b foi criada interligada a lista_a (por conta do []),\n",
        "## e assim toda modificação feita na lista vai ser aplicada as duas.  "
      ],
      "metadata": {
        "id": "TPwm2_OViiqo"
      },
      "execution_count": null,
      "outputs": []
    },
    {
      "cell_type": "code",
      "source": [
        "lista_a[3]=35"
      ],
      "metadata": {
        "id": "zePGOmhfiqZC"
      },
      "execution_count": null,
      "outputs": []
    },
    {
      "cell_type": "code",
      "source": [
        "print(lista_b)"
      ],
      "metadata": {
        "colab": {
          "base_uri": "https://localhost:8080/"
        },
        "id": "0-B1f9VoitxH",
        "outputId": "6c850b4e-7aaa-4e4a-b601-f19ee499d2fa"
      },
      "execution_count": null,
      "outputs": [
        {
          "output_type": "stream",
          "name": "stdout",
          "text": [
            "[[4, 1, 8, 35, 3], [4, 1, 8, 35, 3]]\n"
          ]
        }
      ]
    },
    {
      "cell_type": "markdown",
      "source": [
        "25. O que é impresso pelo trecho de código a seguir?"
      ],
      "metadata": {
        "id": "r9bwiJYcjMqv"
      }
    },
    {
      "cell_type": "code",
      "source": [
        "uma_lista=[4, 1, 8, 6, 3]"
      ],
      "metadata": {
        "id": "JNzjf8UPjOiK"
      },
      "execution_count": null,
      "outputs": []
    },
    {
      "cell_type": "code",
      "source": [
        "uma_lista.append(True)"
      ],
      "metadata": {
        "id": "niRCmYttjTux"
      },
      "execution_count": null,
      "outputs": []
    },
    {
      "cell_type": "code",
      "source": [
        "uma_lista.append(False)"
      ],
      "metadata": {
        "id": "Lsi1Va8ljYTd"
      },
      "execution_count": null,
      "outputs": []
    },
    {
      "cell_type": "code",
      "source": [
        "print(uma_lista)"
      ],
      "metadata": {
        "colab": {
          "base_uri": "https://localhost:8080/"
        },
        "id": "GAThS4nVjcS1",
        "outputId": "c1b8c161-0502-41a1-fb34-012301006cec"
      },
      "execution_count": null,
      "outputs": [
        {
          "output_type": "stream",
          "name": "stdout",
          "text": [
            "[4, 1, 8, 6, 3, True, False]\n"
          ]
        }
      ]
    },
    {
      "cell_type": "markdown",
      "source": [
        "26. O que é impresso pelo trecho de código a seguir?"
      ],
      "metadata": {
        "id": "B0_NRmCDjhpX"
      }
    },
    {
      "cell_type": "code",
      "source": [
        "uma_lista=[4, 1, 8, 6, 3]"
      ],
      "metadata": {
        "id": "OKVT531hjjJ3"
      },
      "execution_count": null,
      "outputs": []
    },
    {
      "cell_type": "code",
      "source": [
        "uma_lista.insert(2, True)## inseriu o elemento True no índice 2"
      ],
      "metadata": {
        "id": "_DWqT2LpjpC2"
      },
      "execution_count": null,
      "outputs": []
    },
    {
      "cell_type": "code",
      "source": [
        "uma_lista.insert(0, False) ## inseriu o elemento False no índice 0"
      ],
      "metadata": {
        "id": "BrVerMJKjser"
      },
      "execution_count": null,
      "outputs": []
    },
    {
      "cell_type": "code",
      "source": [
        "print(uma_lista)"
      ],
      "metadata": {
        "colab": {
          "base_uri": "https://localhost:8080/"
        },
        "id": "KFYU8Ecojwu-",
        "outputId": "5c6f1f2d-8fca-4343-8a57-c4a174bad7e2"
      },
      "execution_count": null,
      "outputs": [
        {
          "output_type": "stream",
          "name": "stdout",
          "text": [
            "[False, 4, 1, True, 8, 6, 3]\n"
          ]
        }
      ]
    },
    {
      "cell_type": "markdown",
      "source": [
        "27. O que é impresso pelo trecho de código a seguir?"
      ],
      "metadata": {
        "id": "irHdw9JPkAde"
      }
    },
    {
      "cell_type": "code",
      "source": [
        "uma_lista=[4, 1, 8, 6, 3]"
      ],
      "metadata": {
        "id": "-5xiQscKkFBv"
      },
      "execution_count": null,
      "outputs": []
    },
    {
      "cell_type": "code",
      "source": [
        "temp=uma_lista.pop(2) #deletou o elemento do índice 2"
      ],
      "metadata": {
        "id": "EmCT5dsTkJzu"
      },
      "execution_count": null,
      "outputs": []
    },
    {
      "cell_type": "code",
      "source": [
        "temp=uma_lista.pop() ## deletou o último elemento da lista que é o default .pop"
      ],
      "metadata": {
        "id": "uDhfs7ZrkO32"
      },
      "execution_count": null,
      "outputs": []
    },
    {
      "cell_type": "code",
      "source": [
        "print(uma_lista)"
      ],
      "metadata": {
        "colab": {
          "base_uri": "https://localhost:8080/"
        },
        "id": "_AWP6F6ZkS3j",
        "outputId": "cabc84f8-0866-4104-ff2e-37d42fbf9088"
      },
      "execution_count": null,
      "outputs": [
        {
          "output_type": "stream",
          "name": "stdout",
          "text": [
            "[4, 1, 6]\n"
          ]
        }
      ]
    },
    {
      "cell_type": "markdown",
      "source": [
        "28. O que é impresso pelo trecho de código a seguir?"
      ],
      "metadata": {
        "id": "eCGvJjxLkg__"
      }
    },
    {
      "cell_type": "code",
      "source": [
        "uma_lista=[4, 1, 8, 6, 3]"
      ],
      "metadata": {
        "id": "b2Jq1DFokjRH"
      },
      "execution_count": null,
      "outputs": []
    },
    {
      "cell_type": "code",
      "source": [
        "uma_lista=uma_lista.pop(0) ## criou um objeto com o elemento do índice 0 deletado na lista"
      ],
      "metadata": {
        "id": "J6Ij-YvvkoN4"
      },
      "execution_count": null,
      "outputs": []
    },
    {
      "cell_type": "code",
      "source": [
        "print(uma_lista)"
      ],
      "metadata": {
        "colab": {
          "base_uri": "https://localhost:8080/"
        },
        "id": "4TviZRufktOn",
        "outputId": "c73d56ba-e561-493c-b5ba-90133fecd701"
      },
      "execution_count": null,
      "outputs": [
        {
          "output_type": "stream",
          "name": "stdout",
          "text": [
            "4\n"
          ]
        }
      ]
    }
  ]
}