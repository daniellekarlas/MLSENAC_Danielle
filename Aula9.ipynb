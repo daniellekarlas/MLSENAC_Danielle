{
  "nbformat": 4,
  "nbformat_minor": 0,
  "metadata": {
    "colab": {
      "provenance": [],
      "authorship_tag": "ABX9TyNytmFD9YG+LKMq1Wgi2Vzb",
      "include_colab_link": true
    },
    "kernelspec": {
      "name": "python3",
      "display_name": "Python 3"
    },
    "language_info": {
      "name": "python"
    }
  },
  "cells": [
    {
      "cell_type": "markdown",
      "metadata": {
        "id": "view-in-github",
        "colab_type": "text"
      },
      "source": [
        "<a href=\"https://colab.research.google.com/github/daniellekarlas/MLSENAC_Danielle/blob/main/Aula9.ipynb\" target=\"_parent\"><img src=\"https://colab.research.google.com/assets/colab-badge.svg\" alt=\"Open In Colab\"/></a>"
      ]
    },
    {
      "cell_type": "code",
      "execution_count": null,
      "metadata": {
        "id": "DqB81VE4OZLF"
      },
      "outputs": [],
      "source": [
        "#quais as características dos pacientes\n",
        "#Tossindo?\n",
        "#Espirrando?\n",
        "#falta de ar?\n",
        "#febre?\n",
        "\n",
        "gripado1=[1,1,1,1]\n",
        "gripado2=[0,1,0,1]\n",
        "gripado3=[1,1,0,0]\n",
        "gripado4=[1,1,0,1]\n",
        "\n",
        "alergico1=[1,1,0,0]\n",
        "alergico2=[0,1,0,0]\n",
        "alergico3=[1,0,1,0]\n",
        "alergico4=[0,1,1,0]"
      ]
    },
    {
      "cell_type": "code",
      "source": [
        "dados=[gripado1, gripado2, gripado3, gripado4, alergico1, alergico2, alergico3, alergico4]\n",
        "#categoria 1= gripado; categoria 0=alérgico\n",
        "categorias=[1,1,1,1,0,0,0,0]"
      ],
      "metadata": {
        "id": "jWZWl_rbPJ3x"
      },
      "execution_count": null,
      "outputs": []
    },
    {
      "cell_type": "code",
      "source": [
        "from sklearn.svm import LinearSVC"
      ],
      "metadata": {
        "id": "QBMYbbriP6g6"
      },
      "execution_count": null,
      "outputs": []
    },
    {
      "cell_type": "markdown",
      "source": [
        "####Rodando nosso treino"
      ],
      "metadata": {
        "id": "H742U09JQjEx"
      }
    },
    {
      "cell_type": "code",
      "source": [
        "modelo=LinearSVC() #criar um objeto com o algoritmo escolhido\n",
        "modelo.fit(dados, categorias) # colocar os dados (variaveis) dentro do algoritmo"
      ],
      "metadata": {
        "colab": {
          "base_uri": "https://localhost:8080/"
        },
        "id": "0Lcs2iuHQiaB",
        "outputId": "8ed5e9f5-7f40-4b1b-dfd6-8281c6b66a60"
      },
      "execution_count": null,
      "outputs": [
        {
          "output_type": "execute_result",
          "data": {
            "text/plain": [
              "LinearSVC()"
            ]
          },
          "metadata": {},
          "execution_count": 23
        }
      ]
    },
    {
      "cell_type": "markdown",
      "source": [
        "####definindo dados de teste"
      ],
      "metadata": {
        "id": "hZuSqRpGRnN5"
      }
    },
    {
      "cell_type": "code",
      "source": [
        "paciente1=[0,1,0,1]\n",
        "paciente2=[0,0,0,0]\n",
        "paciente3=[1,1,1,1]\n",
        "paciente4=[0,1,0,1]\n",
        "\n",
        "dados_teste=[paciente1, paciente2, paciente3, paciente4]"
      ],
      "metadata": {
        "id": "kmsoo3OZRm1a"
      },
      "execution_count": null,
      "outputs": []
    },
    {
      "cell_type": "markdown",
      "source": [
        "####testando"
      ],
      "metadata": {
        "id": "eMc3dKIVU3c6"
      }
    },
    {
      "cell_type": "code",
      "source": [
        "modelo.predict(dados_teste)"
      ],
      "metadata": {
        "colab": {
          "base_uri": "https://localhost:8080/"
        },
        "id": "RTXC-ZCZU2zb",
        "outputId": "8a009e01-38a5-4f6b-d9c9-42cc349a57f9"
      },
      "execution_count": null,
      "outputs": [
        {
          "output_type": "execute_result",
          "data": {
            "text/plain": [
              "array([1, 0, 1, 1])"
            ]
          },
          "metadata": {},
          "execution_count": 25
        }
      ]
    },
    {
      "cell_type": "markdown",
      "source": [
        "####Dado um novo paciente, vamos analisar a possibilidade de ele estar gripado"
      ],
      "metadata": {
        "id": "GfV0xP9WXw56"
      }
    },
    {
      "cell_type": "code",
      "source": [
        "novo_paciente=[0,1,0,0]\n",
        "modelo.predict([novo_paciente])"
      ],
      "metadata": {
        "colab": {
          "base_uri": "https://localhost:8080/"
        },
        "id": "rda-kJeQXwjT",
        "outputId": "12dcb9d0-0ec4-427c-f8cc-cc3edfba63c9"
      },
      "execution_count": null,
      "outputs": [
        {
          "output_type": "execute_result",
          "data": {
            "text/plain": [
              "array([0])"
            ]
          },
          "metadata": {},
          "execution_count": 27
        }
      ]
    },
    {
      "cell_type": "code",
      "source": [
        "if (modelo.predict([novo_paciente])==0):\n",
        "  print (\"Paciente potencialmente alérgico\")\n",
        "else:\n",
        "  print(\"Paciente potencialmente gripado\")"
      ],
      "metadata": {
        "colab": {
          "base_uri": "https://localhost:8080/"
        },
        "id": "9_fOJXAYRkTq",
        "outputId": "ede608cb-32c8-4c1d-90b5-b1af241f7f7b"
      },
      "execution_count": null,
      "outputs": [
        {
          "output_type": "stream",
          "name": "stdout",
          "text": [
            "Paciente potencialmente alérgico\n"
          ]
        }
      ]
    },
    {
      "cell_type": "markdown",
      "source": [
        "####Vamos salvar a aplicação do nosso modelo sobre os dados de teste na variável predição"
      ],
      "metadata": {
        "id": "NHQpIg5IZMRE"
      }
    },
    {
      "cell_type": "code",
      "source": [
        "predicoes=modelo.predict(dados_teste)"
      ],
      "metadata": {
        "id": "8QqJ-4raZX97"
      },
      "execution_count": null,
      "outputs": []
    },
    {
      "cell_type": "markdown",
      "source": [
        "#### vamos supor que temos casos com exames que confirmaram o seguinte sobre os pacientes terem gripe ou não. Vamos comparar nosso modelo com a realidade."
      ],
      "metadata": {
        "id": "ehaJQcz3ZnDz"
      }
    },
    {
      "cell_type": "code",
      "source": [
        "exames=[1,0,1,0]"
      ],
      "metadata": {
        "id": "uyj_ha2wZ2tL"
      },
      "execution_count": null,
      "outputs": []
    },
    {
      "cell_type": "code",
      "source": [
        "predicoes==exames"
      ],
      "metadata": {
        "colab": {
          "base_uri": "https://localhost:8080/"
        },
        "id": "3glO7sAEZ7hs",
        "outputId": "888754c9-07c4-4281-f471-4c57d1c68348"
      },
      "execution_count": null,
      "outputs": [
        {
          "output_type": "execute_result",
          "data": {
            "text/plain": [
              "array([ True,  True,  True, False])"
            ]
          },
          "metadata": {},
          "execution_count": 31
        }
      ]
    },
    {
      "cell_type": "code",
      "source": [
        "#total_acertos do nosso modelo:\n",
        "total_acertos=(predicoes==exames).sum()\n",
        "total_acertos"
      ],
      "metadata": {
        "colab": {
          "base_uri": "https://localhost:8080/"
        },
        "id": "uN_BbpfCahQj",
        "outputId": "dc15ff8f-f135-4a32-8e68-43e3b4032405"
      },
      "execution_count": null,
      "outputs": [
        {
          "output_type": "execute_result",
          "data": {
            "text/plain": [
              "3"
            ]
          },
          "metadata": {},
          "execution_count": 32
        }
      ]
    },
    {
      "cell_type": "code",
      "source": [
        "total_predicoes=len(dados_teste)\n",
        "total_predicoes"
      ],
      "metadata": {
        "colab": {
          "base_uri": "https://localhost:8080/"
        },
        "id": "Zwn06T5jcjrt",
        "outputId": "155f3bc1-875f-4bfc-8264-8fc912ec639f"
      },
      "execution_count": null,
      "outputs": [
        {
          "output_type": "execute_result",
          "data": {
            "text/plain": [
              "4"
            ]
          },
          "metadata": {},
          "execution_count": 34
        }
      ]
    },
    {
      "cell_type": "code",
      "source": [
        "#qual foi nossa taxa de sucesso?\n",
        "taxa_sucesso=total_acertos/total_predicoes*100\n",
        "taxa_sucesso"
      ],
      "metadata": {
        "colab": {
          "base_uri": "https://localhost:8080/"
        },
        "id": "qh0tAGaec7N8",
        "outputId": "0f1ee4ce-d9b2-4f9b-c5a6-b132cfca780c"
      },
      "execution_count": null,
      "outputs": [
        {
          "output_type": "execute_result",
          "data": {
            "text/plain": [
              "75.0"
            ]
          },
          "metadata": {},
          "execution_count": 35
        }
      ]
    },
    {
      "cell_type": "code",
      "source": [
        "print(\"A taxa de sucesso do seu modelo preditivo foi de \", taxa_sucesso,\"%.\")"
      ],
      "metadata": {
        "colab": {
          "base_uri": "https://localhost:8080/"
        },
        "id": "XRqGHOkHc7Lb",
        "outputId": "a5ba4b5e-2c5f-4295-c257-4d9e3f52d4f5"
      },
      "execution_count": null,
      "outputs": [
        {
          "output_type": "stream",
          "name": "stdout",
          "text": [
            "A taxa de sucesso do seu modelo preditivo foi de  75.0 %.\n"
          ]
        }
      ]
    },
    {
      "cell_type": "code",
      "source": [
        "#para situacoes mais complexas, usaremos o accuracy score\n",
        "from sklearn.metrics import accuracy_score\n",
        "taxa_sucesso=accuracy_score(total_acertos/total_predicoes)"
      ],
      "metadata": {
        "colab": {
          "base_uri": "https://localhost:8080/",
          "height": 200
        },
        "id": "ybyP-qTBc6-c",
        "outputId": "0c92be6f-a36c-451b-f466-04911fdcf5ed"
      },
      "execution_count": null,
      "outputs": [
        {
          "output_type": "error",
          "ename": "TypeError",
          "evalue": "ignored",
          "traceback": [
            "\u001b[0;31m---------------------------------------------------------------------------\u001b[0m",
            "\u001b[0;31mTypeError\u001b[0m                                 Traceback (most recent call last)",
            "\u001b[0;32m<ipython-input-39-95acbbb8f886>\u001b[0m in \u001b[0;36m<module>\u001b[0;34m\u001b[0m\n\u001b[1;32m      1\u001b[0m \u001b[0;31m#para situacoes mais complexas, usaremos o accuracy score\u001b[0m\u001b[0;34m\u001b[0m\u001b[0;34m\u001b[0m\u001b[0;34m\u001b[0m\u001b[0m\n\u001b[1;32m      2\u001b[0m \u001b[0;32mfrom\u001b[0m \u001b[0msklearn\u001b[0m\u001b[0;34m.\u001b[0m\u001b[0mmetrics\u001b[0m \u001b[0;32mimport\u001b[0m \u001b[0maccuracy_score\u001b[0m\u001b[0;34m\u001b[0m\u001b[0;34m\u001b[0m\u001b[0m\n\u001b[0;32m----> 3\u001b[0;31m \u001b[0mtaxa_sucesso\u001b[0m\u001b[0;34m=\u001b[0m\u001b[0maccuracy_score\u001b[0m\u001b[0;34m(\u001b[0m\u001b[0mtotal_acertos\u001b[0m\u001b[0;34m/\u001b[0m\u001b[0mtotal_predicoes\u001b[0m\u001b[0;34m)\u001b[0m\u001b[0;34m\u001b[0m\u001b[0;34m\u001b[0m\u001b[0m\n\u001b[0m",
            "\u001b[0;31mTypeError\u001b[0m: accuracy_score() missing 1 required positional argument: 'y_pred'"
          ]
        }
      ]
    }
  ]
}