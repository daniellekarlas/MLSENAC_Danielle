{
  "nbformat": 4,
  "nbformat_minor": 0,
  "metadata": {
    "colab": {
      "provenance": [],
      "authorship_tag": "ABX9TyOMnq0uqI5Wo1V2DfpUaiL9",
      "include_colab_link": true
    },
    "kernelspec": {
      "name": "python3",
      "display_name": "Python 3"
    },
    "language_info": {
      "name": "python"
    }
  },
  "cells": [
    {
      "cell_type": "markdown",
      "metadata": {
        "id": "view-in-github",
        "colab_type": "text"
      },
      "source": [
        "<a href=\"https://colab.research.google.com/github/daniellekarlas/MLSENAC_Danielle/blob/main/atividadecasaAula8.ipynb\" target=\"_parent\"><img src=\"https://colab.research.google.com/assets/colab-badge.svg\" alt=\"Open In Colab\"/></a>"
      ]
    },
    {
      "cell_type": "code",
      "execution_count": 1,
      "metadata": {
        "id": "dzwsR0aXtX-J"
      },
      "outputs": [],
      "source": [
        "import numpy as np\n"
      ]
    },
    {
      "cell_type": "markdown",
      "source": [
        "Arange"
      ],
      "metadata": {
        "id": "ixNyggP5uV2h"
      }
    },
    {
      "cell_type": "code",
      "source": [
        "arr1 = np.arange(10)"
      ],
      "metadata": {
        "id": "NVwhs3aduTp6"
      },
      "execution_count": 2,
      "outputs": []
    },
    {
      "cell_type": "code",
      "source": [
        "arr2=np.arange(10,20)"
      ],
      "metadata": {
        "id": "u9UMPIxgt2g7"
      },
      "execution_count": 3,
      "outputs": []
    },
    {
      "cell_type": "code",
      "source": [
        "arr3=np.arange(10,20,2)"
      ],
      "metadata": {
        "id": "TUPnJFf-t6kK"
      },
      "execution_count": 4,
      "outputs": []
    },
    {
      "cell_type": "code",
      "source": [
        "arr4=np.arange(10,20,1.4)"
      ],
      "metadata": {
        "id": "q5u3dzPIt-xU"
      },
      "execution_count": 5,
      "outputs": []
    },
    {
      "cell_type": "markdown",
      "source": [
        "array com linspace"
      ],
      "metadata": {
        "id": "QMQ75rwPuXjX"
      }
    },
    {
      "cell_type": "code",
      "source": [
        "arr5=np.linspace(10,20,11)\n"
      ],
      "metadata": {
        "id": "t3Jp6kwKubhj"
      },
      "execution_count": 6,
      "outputs": []
    },
    {
      "cell_type": "code",
      "source": [
        "arr6=np.linspace(10,20,101)"
      ],
      "metadata": {
        "id": "ziXsSAOKufr-"
      },
      "execution_count": 7,
      "outputs": []
    },
    {
      "cell_type": "code",
      "source": [
        "arr7=np.linspace(0, np.pi, 100)"
      ],
      "metadata": {
        "id": "ANP3lqjOuudO"
      },
      "execution_count": 8,
      "outputs": []
    },
    {
      "cell_type": "markdown",
      "source": [
        "Numpy: Matrizes\n"
      ],
      "metadata": {
        "id": "KFu5OHgbvBR3"
      }
    },
    {
      "cell_type": "code",
      "source": [
        "#criando a primeira matriz\n",
        "minhaMatriz=np.array([[1,2,3],\n",
        "                      [4,5,6]])"
      ],
      "metadata": {
        "id": "Lo-2UiYTvFZf"
      },
      "execution_count": 9,
      "outputs": []
    },
    {
      "cell_type": "code",
      "source": [
        "##pode ser escrita assim \n",
        "minhaMatriz=np.array([[1,2,3],[4,5,6]])\n",
        "minhaMatriz"
      ],
      "metadata": {
        "colab": {
          "base_uri": "https://localhost:8080/"
        },
        "id": "zZVAxCbMvfUm",
        "outputId": "c933c1d9-f9f6-49b5-ab4b-01821cc8e7dd"
      },
      "execution_count": 10,
      "outputs": [
        {
          "output_type": "execute_result",
          "data": {
            "text/plain": [
              "array([[1, 2, 3],\n",
              "       [4, 5, 6]])"
            ]
          },
          "metadata": {},
          "execution_count": 10
        }
      ]
    },
    {
      "cell_type": "code",
      "source": [
        "##podemos criar uma matriz a partir de uma lista\n",
        "minhaLista=[[13,81,22], [0,34,59], [21,48,94]]"
      ],
      "metadata": {
        "id": "j8HFaC3tv2Y8"
      },
      "execution_count": 11,
      "outputs": []
    },
    {
      "cell_type": "code",
      "source": [
        "##agora usaremos np.matriz\n",
        "minhaMatriz=np.matrix(minhaLista)\n",
        "minhaMatriz"
      ],
      "metadata": {
        "colab": {
          "base_uri": "https://localhost:8080/"
        },
        "id": "g0BY1OIXwDyq",
        "outputId": "2ad2865a-901d-450c-eee0-e7475823a48e"
      },
      "execution_count": 12,
      "outputs": [
        {
          "output_type": "execute_result",
          "data": {
            "text/plain": [
              "matrix([[13, 81, 22],\n",
              "        [ 0, 34, 59],\n",
              "        [21, 48, 94]])"
            ]
          },
          "metadata": {},
          "execution_count": 12
        }
      ]
    },
    {
      "cell_type": "code",
      "source": [
        "##np.zeros: pode formar vetores e matrizes\n",
        "#vetor\n",
        "x=np.zeros(3)\n",
        "x"
      ],
      "metadata": {
        "colab": {
          "base_uri": "https://localhost:8080/"
        },
        "id": "GnE1u1WMwSsb",
        "outputId": "c2eca899-65c4-4911-9365-5c5267105b9f"
      },
      "execution_count": 13,
      "outputs": [
        {
          "output_type": "execute_result",
          "data": {
            "text/plain": [
              "array([0., 0., 0.])"
            ]
          },
          "metadata": {},
          "execution_count": 13
        }
      ]
    },
    {
      "cell_type": "code",
      "source": [
        "#matriz\n",
        "x=np.zeros((3,2))\n",
        "x"
      ],
      "metadata": {
        "colab": {
          "base_uri": "https://localhost:8080/"
        },
        "id": "kWhAj0pbwidq",
        "outputId": "421b285a-74a5-431e-c1b9-c310e7b3f53c"
      },
      "execution_count": 14,
      "outputs": [
        {
          "output_type": "execute_result",
          "data": {
            "text/plain": [
              "array([[0., 0.],\n",
              "       [0., 0.],\n",
              "       [0., 0.]])"
            ]
          },
          "metadata": {},
          "execution_count": 14
        }
      ]
    },
    {
      "cell_type": "code",
      "source": [
        "##np.zeros: pode formar vetores e matrizes\n",
        "#outra forma sem armazenar em variáveis\n",
        "#vetor\n",
        "print(np.zeros(3))"
      ],
      "metadata": {
        "colab": {
          "base_uri": "https://localhost:8080/"
        },
        "id": "-VcJcCLJw9dI",
        "outputId": "b763deb0-ddef-4817-b1a1-e4b85effc3f3"
      },
      "execution_count": 15,
      "outputs": [
        {
          "output_type": "stream",
          "name": "stdout",
          "text": [
            "[0. 0. 0.]\n"
          ]
        }
      ]
    },
    {
      "cell_type": "code",
      "source": [
        "#matriz\n",
        "print(np.zeros((3,2)))"
      ],
      "metadata": {
        "colab": {
          "base_uri": "https://localhost:8080/"
        },
        "id": "YM4OZot8xOK1",
        "outputId": "0fb17f95-2270-4496-d09d-3eca4e5b398b"
      },
      "execution_count": 16,
      "outputs": [
        {
          "output_type": "stream",
          "name": "stdout",
          "text": [
            "[[0. 0.]\n",
            " [0. 0.]\n",
            " [0. 0.]]\n"
          ]
        }
      ]
    },
    {
      "cell_type": "code",
      "source": [
        "#np.ones:\n",
        "x=np.ones((5,3))\n",
        "x"
      ],
      "metadata": {
        "colab": {
          "base_uri": "https://localhost:8080/"
        },
        "id": "r5L4qc0_xUs8",
        "outputId": "dc58faea-9f9c-4f28-92a1-3fa74fd23034"
      },
      "execution_count": 17,
      "outputs": [
        {
          "output_type": "execute_result",
          "data": {
            "text/plain": [
              "array([[1., 1., 1.],\n",
              "       [1., 1., 1.],\n",
              "       [1., 1., 1.],\n",
              "       [1., 1., 1.],\n",
              "       [1., 1., 1.]])"
            ]
          },
          "metadata": {},
          "execution_count": 17
        }
      ]
    },
    {
      "cell_type": "code",
      "source": [
        "#igualmente é possível para apenas um vetor:\n",
        "y=np.ones(5)\n",
        "y"
      ],
      "metadata": {
        "colab": {
          "base_uri": "https://localhost:8080/"
        },
        "id": "lusfx2HGxdEv",
        "outputId": "a7a5c89c-ae3c-420d-9e9a-dd0bdc108cf3"
      },
      "execution_count": 18,
      "outputs": [
        {
          "output_type": "execute_result",
          "data": {
            "text/plain": [
              "array([1., 1., 1., 1., 1.])"
            ]
          },
          "metadata": {},
          "execution_count": 18
        }
      ]
    },
    {
      "cell_type": "markdown",
      "source": [
        "DESAFIO: como obter uma matriz 4x4 apenas com números 8?"
      ],
      "metadata": {
        "id": "i2Z40GomxoCk"
      }
    },
    {
      "cell_type": "code",
      "source": [
        "minhaLista=[[[8]*4]]\n",
        "minhaMatriz2=np.array(minhaLista*4)\n",
        "minhaMatriz2"
      ],
      "metadata": {
        "colab": {
          "base_uri": "https://localhost:8080/"
        },
        "id": "jbBnxY_KxnJP",
        "outputId": "493ada7c-f730-46c9-8ea1-3da502d5770d"
      },
      "execution_count": 19,
      "outputs": [
        {
          "output_type": "execute_result",
          "data": {
            "text/plain": [
              "array([[[8, 8, 8, 8]],\n",
              "\n",
              "       [[8, 8, 8, 8]],\n",
              "\n",
              "       [[8, 8, 8, 8]],\n",
              "\n",
              "       [[8, 8, 8, 8]]])"
            ]
          },
          "metadata": {},
          "execution_count": 19
        }
      ]
    },
    {
      "cell_type": "code",
      "source": [
        "##np.diag para formar matrizes:\n",
        "#os valores passados como parâmero formam uma diagonal\n",
        "z=np.diag(np.array([1,2,3,4,5,6]))\n",
        "z"
      ],
      "metadata": {
        "colab": {
          "base_uri": "https://localhost:8080/"
        },
        "id": "1uvNBgc10ogC",
        "outputId": "e8c3d7f0-33bd-41ea-cfe5-16937c5553af"
      },
      "execution_count": 20,
      "outputs": [
        {
          "output_type": "execute_result",
          "data": {
            "text/plain": [
              "array([[1, 0, 0, 0, 0, 0],\n",
              "       [0, 2, 0, 0, 0, 0],\n",
              "       [0, 0, 3, 0, 0, 0],\n",
              "       [0, 0, 0, 4, 0, 0],\n",
              "       [0, 0, 0, 0, 5, 0],\n",
              "       [0, 0, 0, 0, 0, 6]])"
            ]
          },
          "metadata": {},
          "execution_count": 20
        }
      ]
    },
    {
      "cell_type": "code",
      "source": [
        "#np.eye para formar matrizes:\n",
        "y=np.eye(5)\n",
        "y"
      ],
      "metadata": {
        "colab": {
          "base_uri": "https://localhost:8080/"
        },
        "id": "fLzUEWiE1DiV",
        "outputId": "b7bd0528-2614-4829-df59-ab373208a6d3"
      },
      "execution_count": 21,
      "outputs": [
        {
          "output_type": "execute_result",
          "data": {
            "text/plain": [
              "array([[1., 0., 0., 0., 0.],\n",
              "       [0., 1., 0., 0., 0.],\n",
              "       [0., 0., 1., 0., 0.],\n",
              "       [0., 0., 0., 1., 0.],\n",
              "       [0., 0., 0., 0., 1.]])"
            ]
          },
          "metadata": {},
          "execution_count": 21
        }
      ]
    },
    {
      "cell_type": "code",
      "source": [
        "#agora determinamos o tipo int:\n",
        "y=np.eye(5, dtype=int)\n",
        "y"
      ],
      "metadata": {
        "colab": {
          "base_uri": "https://localhost:8080/"
        },
        "id": "BPCAyl8_1OB6",
        "outputId": "fd9bda0e-a1f9-4e79-af98-7d4c97c672bc"
      },
      "execution_count": 22,
      "outputs": [
        {
          "output_type": "execute_result",
          "data": {
            "text/plain": [
              "array([[1, 0, 0, 0, 0],\n",
              "       [0, 1, 0, 0, 0],\n",
              "       [0, 0, 1, 0, 0],\n",
              "       [0, 0, 0, 1, 0],\n",
              "       [0, 0, 0, 0, 1]])"
            ]
          },
          "metadata": {},
          "execution_count": 22
        }
      ]
    },
    {
      "cell_type": "code",
      "source": [
        "#verificando o shape(forma) de duas maneiras:\n",
        "np.shape(minhaMatriz)"
      ],
      "metadata": {
        "colab": {
          "base_uri": "https://localhost:8080/"
        },
        "id": "4bTsL1961aIj",
        "outputId": "5084781e-84fd-46f3-e3ff-bfca5772b112"
      },
      "execution_count": 23,
      "outputs": [
        {
          "output_type": "execute_result",
          "data": {
            "text/plain": [
              "(3, 3)"
            ]
          },
          "metadata": {},
          "execution_count": 23
        }
      ]
    },
    {
      "cell_type": "code",
      "source": [
        "minhaMatriz.shape"
      ],
      "metadata": {
        "colab": {
          "base_uri": "https://localhost:8080/"
        },
        "id": "ZKdcMQ7r1k2C",
        "outputId": "29c168b2-7ffd-48d4-b7a9-91e3f740449c"
      },
      "execution_count": 24,
      "outputs": [
        {
          "output_type": "execute_result",
          "data": {
            "text/plain": [
              "(3, 3)"
            ]
          },
          "metadata": {},
          "execution_count": 24
        }
      ]
    },
    {
      "cell_type": "code",
      "source": [
        "#verificando o tipo de matriz:\n",
        "type(minhaMatriz)"
      ],
      "metadata": {
        "colab": {
          "base_uri": "https://localhost:8080/"
        },
        "id": "LXE6U27n1qTA",
        "outputId": "8601ace3-5e2e-4d1e-adf5-5ce77f7aeeed"
      },
      "execution_count": 25,
      "outputs": [
        {
          "output_type": "execute_result",
          "data": {
            "text/plain": [
              "numpy.matrix"
            ]
          },
          "metadata": {},
          "execution_count": 25
        }
      ]
    },
    {
      "cell_type": "code",
      "source": [
        "#verificando o tipo de dados da matriz\n",
        "minhaMatriz.dtype"
      ],
      "metadata": {
        "colab": {
          "base_uri": "https://localhost:8080/"
        },
        "id": "b8smjutm1vhn",
        "outputId": "9af651d4-0136-4c94-de4b-ac02cd89db73"
      },
      "execution_count": 26,
      "outputs": [
        {
          "output_type": "execute_result",
          "data": {
            "text/plain": [
              "dtype('int64')"
            ]
          },
          "metadata": {},
          "execution_count": 26
        }
      ]
    },
    {
      "cell_type": "code",
      "source": [
        "#selecionando elementos de uma matriz\n",
        "minhaMatriz[2, 1] "
      ],
      "metadata": {
        "colab": {
          "base_uri": "https://localhost:8080/"
        },
        "id": "tNaOAnVJ14vq",
        "outputId": "1b44cb68-cde4-485e-8cf8-2d405702fef2"
      },
      "execution_count": 27,
      "outputs": [
        {
          "output_type": "execute_result",
          "data": {
            "text/plain": [
              "48"
            ]
          },
          "metadata": {},
          "execution_count": 27
        }
      ]
    },
    {
      "cell_type": "code",
      "source": [
        "#selecionando a primeira linha da matriz\n",
        "print(minhaMatriz[0,:])"
      ],
      "metadata": {
        "colab": {
          "base_uri": "https://localhost:8080/"
        },
        "id": "ZnCfL-Zq2HRq",
        "outputId": "5479d8b5-83ca-4f71-c189-5509a7c05a3f"
      },
      "execution_count": 28,
      "outputs": [
        {
          "output_type": "stream",
          "name": "stdout",
          "text": [
            "[[13 81 22]]\n"
          ]
        }
      ]
    },
    {
      "cell_type": "code",
      "source": [
        "#selecionando a terceira coluna da matriz\n",
        "print(minhaMatriz[:,2])"
      ],
      "metadata": {
        "colab": {
          "base_uri": "https://localhost:8080/"
        },
        "id": "N4mVM3u52fXS",
        "outputId": "7c44c334-6455-4fb6-e0c8-dd8511c4c43a"
      },
      "execution_count": 29,
      "outputs": [
        {
          "output_type": "stream",
          "name": "stdout",
          "text": [
            "[[22]\n",
            " [59]\n",
            " [94]]\n"
          ]
        }
      ]
    },
    {
      "cell_type": "code",
      "source": [
        "#alterando um elemento da matriz\n",
        "minhaMatriz[1,0]=100\n",
        "minhaMatriz"
      ],
      "metadata": {
        "colab": {
          "base_uri": "https://localhost:8080/"
        },
        "id": "ie7ePe0U202L",
        "outputId": "7cf8c933-5b5a-4912-8cbf-ed67250d3e8c"
      },
      "execution_count": 30,
      "outputs": [
        {
          "output_type": "execute_result",
          "data": {
            "text/plain": [
              "matrix([[ 13,  81,  22],\n",
              "        [100,  34,  59],\n",
              "        [ 21,  48,  94]])"
            ]
          },
          "metadata": {},
          "execution_count": 30
        }
      ]
    },
    {
      "cell_type": "code",
      "source": [
        "meuArray=minhaMatriz"
      ],
      "metadata": {
        "id": "vXOjYRUb4E7a"
      },
      "execution_count": 31,
      "outputs": []
    },
    {
      "cell_type": "markdown",
      "source": [
        "operações básicas"
      ],
      "metadata": {
        "id": "Vgbu6Yh03Ubr"
      }
    },
    {
      "cell_type": "code",
      "source": [
        "#obtendo a soma dos valores do array\n",
        "np.sum(meuArray)"
      ],
      "metadata": {
        "colab": {
          "base_uri": "https://localhost:8080/"
        },
        "id": "imys9dQ93SBB",
        "outputId": "be11addf-8e05-4cd4-8ef4-026135590b7b"
      },
      "execution_count": 32,
      "outputs": [
        {
          "output_type": "execute_result",
          "data": {
            "text/plain": [
              "472"
            ]
          },
          "metadata": {},
          "execution_count": 32
        }
      ]
    },
    {
      "cell_type": "code",
      "source": [
        "#obtendo o produto\n",
        "np.prod(meuArray)"
      ],
      "metadata": {
        "colab": {
          "base_uri": "https://localhost:8080/"
        },
        "id": "x8EVfkwk4ak4",
        "outputId": "574b6110-86e7-4a4b-ef1b-360f6fabd430"
      },
      "execution_count": 33,
      "outputs": [
        {
          "output_type": "execute_result",
          "data": {
            "text/plain": [
              "440321981299200"
            ]
          },
          "metadata": {},
          "execution_count": 33
        }
      ]
    },
    {
      "cell_type": "code",
      "source": [
        "#obtendo a soma acumulada\n",
        "np.cumsum(meuArray)"
      ],
      "metadata": {
        "colab": {
          "base_uri": "https://localhost:8080/"
        },
        "id": "GNf-mRvG4iBj",
        "outputId": "c03a23e6-4ec7-4efc-c5ec-9d0fdbe22869"
      },
      "execution_count": 34,
      "outputs": [
        {
          "output_type": "execute_result",
          "data": {
            "text/plain": [
              "matrix([[ 13,  94, 116, 216, 250, 309, 330, 378, 472]])"
            ]
          },
          "metadata": {},
          "execution_count": 34
        }
      ]
    },
    {
      "cell_type": "code",
      "source": [
        "#obtendo o valor mínimo do array\n",
        "meuArray.min()"
      ],
      "metadata": {
        "colab": {
          "base_uri": "https://localhost:8080/"
        },
        "id": "a6rcJ1B04zPE",
        "outputId": "4c64b0d8-a611-49cc-cc26-988c2e00d3e9"
      },
      "execution_count": 35,
      "outputs": [
        {
          "output_type": "execute_result",
          "data": {
            "text/plain": [
              "13"
            ]
          },
          "metadata": {},
          "execution_count": 35
        }
      ]
    },
    {
      "cell_type": "code",
      "source": [
        "#obtendo o valor máximo\n",
        "meuArray.max()"
      ],
      "metadata": {
        "colab": {
          "base_uri": "https://localhost:8080/"
        },
        "id": "Ts6gBC6W5LUn",
        "outputId": "fa0f32a9-b5d6-465e-b08a-ff943cd5e4df"
      },
      "execution_count": 36,
      "outputs": [
        {
          "output_type": "execute_result",
          "data": {
            "text/plain": [
              "100"
            ]
          },
          "metadata": {},
          "execution_count": 36
        }
      ]
    },
    {
      "cell_type": "code",
      "source": [
        "#obtendo a média dos valores do array\n",
        "np.mean(meuArray)"
      ],
      "metadata": {
        "colab": {
          "base_uri": "https://localhost:8080/"
        },
        "id": "zHSJNsIB5Rtp",
        "outputId": "5289adcf-363b-446d-e5bc-4c9943932dd9"
      },
      "execution_count": 37,
      "outputs": [
        {
          "output_type": "execute_result",
          "data": {
            "text/plain": [
              "52.44444444444444"
            ]
          },
          "metadata": {},
          "execution_count": 37
        }
      ]
    },
    {
      "cell_type": "code",
      "source": [
        "#obtendo a mediana\n",
        "np.median(meuArray)"
      ],
      "metadata": {
        "colab": {
          "base_uri": "https://localhost:8080/"
        },
        "id": "3B6oC0J15YEm",
        "outputId": "db3bec52-b6b3-4490-b30b-ec511d5b8185"
      },
      "execution_count": 38,
      "outputs": [
        {
          "output_type": "execute_result",
          "data": {
            "text/plain": [
              "matrix([[ 21.,  13.,  22.,  34.,  48.,  59.,  81.,  94., 100.]])"
            ]
          },
          "metadata": {},
          "execution_count": 38
        }
      ]
    },
    {
      "cell_type": "code",
      "source": [
        "#obtendo a variância dos valores\n",
        "np.var(meuArray)"
      ],
      "metadata": {
        "colab": {
          "base_uri": "https://localhost:8080/"
        },
        "id": "ST2jCnJh5fSn",
        "outputId": "b213e861-c516-4658-8450-4deb7ad265f7"
      },
      "execution_count": 39,
      "outputs": [
        {
          "output_type": "execute_result",
          "data": {
            "text/plain": [
              "964.246913580247"
            ]
          },
          "metadata": {},
          "execution_count": 39
        }
      ]
    },
    {
      "cell_type": "code",
      "source": [
        "#obtendo o desvio padrão dos valores\n",
        "np.std(meuArray)"
      ],
      "metadata": {
        "colab": {
          "base_uri": "https://localhost:8080/"
        },
        "id": "oJEouZ7s5pS1",
        "outputId": "dfb3cc8c-d550-490f-ecfb-37be03db496c"
      },
      "execution_count": 40,
      "outputs": [
        {
          "output_type": "execute_result",
          "data": {
            "text/plain": [
              "31.052325413409008"
            ]
          },
          "metadata": {},
          "execution_count": 40
        }
      ]
    },
    {
      "cell_type": "markdown",
      "source": [
        "Desafio\n",
        "Criar um array unidimensional usando arange com 20 elementos;\n",
        "● “Varrer” o array para obter os pares;\n",
        "● “Varrer” o array para obter os ímpares;\n",
        "● Obter a média, a soma, o produto, a variância e o desvio padrão\n",
        "do array.\n",
        "● Saber se os valores são maiores que 5;\n",
        "● Obter os valores maiores que 5."
      ],
      "metadata": {
        "id": "QDnf2Ppl51aH"
      }
    },
    {
      "cell_type": "code",
      "source": [
        "arr8=np.arange(20)\n",
        "arr8"
      ],
      "metadata": {
        "colab": {
          "base_uri": "https://localhost:8080/"
        },
        "id": "hBQkNsRO_kAS",
        "outputId": "e6e6b744-8ed1-4730-c073-3bb8ecaf238c"
      },
      "execution_count": 92,
      "outputs": [
        {
          "output_type": "execute_result",
          "data": {
            "text/plain": [
              "array([ 0,  1,  2,  3,  4,  5,  6,  7,  8,  9, 10, 11, 12, 13, 14, 15, 16,\n",
              "       17, 18, 19])"
            ]
          },
          "metadata": {},
          "execution_count": 92
        }
      ]
    },
    {
      "cell_type": "code",
      "source": [
        "par=np.where(arr8 %2==0)\n",
        "print(par)\n"
      ],
      "metadata": {
        "colab": {
          "base_uri": "https://localhost:8080/"
        },
        "id": "iwjJ9XZBAJcm",
        "outputId": "7aaf64de-56f9-4bc7-9286-76afa9f76f19"
      },
      "execution_count": 93,
      "outputs": [
        {
          "output_type": "stream",
          "name": "stdout",
          "text": [
            "(array([ 0,  2,  4,  6,  8, 10, 12, 14, 16, 18]),)\n"
          ]
        }
      ]
    },
    {
      "cell_type": "code",
      "source": [
        "impar=np.where(arr8%2==1)\n",
        "print(impar)"
      ],
      "metadata": {
        "colab": {
          "base_uri": "https://localhost:8080/"
        },
        "id": "DX8P4jhkFxch",
        "outputId": "f94df1b6-8188-4dab-b154-fc4cfefaa796"
      },
      "execution_count": 94,
      "outputs": [
        {
          "output_type": "stream",
          "name": "stdout",
          "text": [
            "(array([ 1,  3,  5,  7,  9, 11, 13, 15, 17, 19]),)\n"
          ]
        }
      ]
    },
    {
      "cell_type": "markdown",
      "source": [
        "Camilla, abaixo eu vou colocar um outro array que eu tinha gerado, e estava dando erro com a função np.where, quando eu pedia os pares, ele retornava o ímpar e vice-versa."
      ],
      "metadata": {
        "id": "bxabbGwrJcrM"
      }
    },
    {
      "cell_type": "code",
      "source": [
        "arrayteste=np.arange(1, 21)\n",
        "\n",
        "par=np.where(arrayteste %2==0)\n",
        "print(par)\n",
        "\n",
        "impar=np.where(arrayteste %2==1)\n",
        "print(impar)"
      ],
      "metadata": {
        "colab": {
          "base_uri": "https://localhost:8080/"
        },
        "id": "NwOT1h2wJsVM",
        "outputId": "ab32732f-9109-4506-d32c-c57a96be15f2"
      },
      "execution_count": 98,
      "outputs": [
        {
          "output_type": "stream",
          "name": "stdout",
          "text": [
            "(array([ 1,  3,  5,  7,  9, 11, 13, 15, 17, 19]),)\n",
            "(array([ 0,  2,  4,  6,  8, 10, 12, 14, 16, 18]),)\n"
          ]
        }
      ]
    },
    {
      "cell_type": "code",
      "source": [
        "np.mean(arr8)"
      ],
      "metadata": {
        "colab": {
          "base_uri": "https://localhost:8080/"
        },
        "id": "qx7mxv6TKhDc",
        "outputId": "bb3498af-145f-4090-d28d-c892ccabd303"
      },
      "execution_count": 99,
      "outputs": [
        {
          "output_type": "execute_result",
          "data": {
            "text/plain": [
              "9.5"
            ]
          },
          "metadata": {},
          "execution_count": 99
        }
      ]
    },
    {
      "cell_type": "code",
      "source": [
        "np.sum(arr8)"
      ],
      "metadata": {
        "colab": {
          "base_uri": "https://localhost:8080/"
        },
        "id": "KR88NAGFKnOS",
        "outputId": "08039be0-5d55-4b2d-c169-21a8d0be5b2f"
      },
      "execution_count": 100,
      "outputs": [
        {
          "output_type": "execute_result",
          "data": {
            "text/plain": [
              "190"
            ]
          },
          "metadata": {},
          "execution_count": 100
        }
      ]
    },
    {
      "cell_type": "code",
      "source": [
        "np.prod(arr8)"
      ],
      "metadata": {
        "colab": {
          "base_uri": "https://localhost:8080/"
        },
        "id": "uZA6FMUrKr_j",
        "outputId": "5b683852-64ea-4b2e-c2b5-8ca4cb8559b6"
      },
      "execution_count": 101,
      "outputs": [
        {
          "output_type": "execute_result",
          "data": {
            "text/plain": [
              "0"
            ]
          },
          "metadata": {},
          "execution_count": 101
        }
      ]
    },
    {
      "cell_type": "code",
      "source": [
        "np.var(arr8)"
      ],
      "metadata": {
        "colab": {
          "base_uri": "https://localhost:8080/"
        },
        "id": "-bhjklHYKsUj",
        "outputId": "5cd04985-d284-43ae-aee7-4a33868e3711"
      },
      "execution_count": 102,
      "outputs": [
        {
          "output_type": "execute_result",
          "data": {
            "text/plain": [
              "33.25"
            ]
          },
          "metadata": {},
          "execution_count": 102
        }
      ]
    },
    {
      "cell_type": "code",
      "source": [
        "np.std(arr8)"
      ],
      "metadata": {
        "colab": {
          "base_uri": "https://localhost:8080/"
        },
        "id": "qZbYNyaZLBSl",
        "outputId": "cf062092-e31d-4fb7-c5ce-bb8623d35016"
      },
      "execution_count": 103,
      "outputs": [
        {
          "output_type": "execute_result",
          "data": {
            "text/plain": [
              "5.766281297335398"
            ]
          },
          "metadata": {},
          "execution_count": 103
        }
      ]
    },
    {
      "cell_type": "code",
      "source": [
        "for num in arr8:\n",
        "  if num >5:\n",
        "    print(\"True\")\n",
        "  else:\n",
        "    print(\"False\")"
      ],
      "metadata": {
        "colab": {
          "base_uri": "https://localhost:8080/"
        },
        "id": "zpiJxttuLJJ8",
        "outputId": "85a85594-8fef-42c2-e1ed-3587c000313a"
      },
      "execution_count": 113,
      "outputs": [
        {
          "output_type": "stream",
          "name": "stdout",
          "text": [
            "False\n",
            "False\n",
            "False\n",
            "False\n",
            "False\n",
            "False\n",
            "True\n",
            "True\n",
            "True\n",
            "True\n",
            "True\n",
            "True\n",
            "True\n",
            "True\n",
            "True\n",
            "True\n",
            "True\n",
            "True\n",
            "True\n",
            "True\n"
          ]
        }
      ]
    },
    {
      "cell_type": "code",
      "source": [
        "arr8>5"
      ],
      "metadata": {
        "colab": {
          "base_uri": "https://localhost:8080/"
        },
        "id": "RaGIaVi-LmLz",
        "outputId": "b1edce53-8e4e-413b-8613-259b58e050b0"
      },
      "execution_count": 105,
      "outputs": [
        {
          "output_type": "execute_result",
          "data": {
            "text/plain": [
              "array([False, False, False, False, False, False,  True,  True,  True,\n",
              "        True,  True,  True,  True,  True,  True,  True,  True,  True,\n",
              "        True,  True])"
            ]
          },
          "metadata": {},
          "execution_count": 105
        }
      ]
    },
    {
      "cell_type": "code",
      "source": [
        "for num in arr8:\n",
        "  if num>5:\n",
        "    print(num)\n"
      ],
      "metadata": {
        "colab": {
          "base_uri": "https://localhost:8080/"
        },
        "id": "Xy3ChCbDLpvN",
        "outputId": "9cdc6ea5-9de3-4554-e083-a51737c0b766"
      },
      "execution_count": 111,
      "outputs": [
        {
          "output_type": "stream",
          "name": "stdout",
          "text": [
            "6\n",
            "7\n",
            "8\n",
            "9\n",
            "10\n",
            "11\n",
            "12\n",
            "13\n",
            "14\n",
            "15\n",
            "16\n",
            "17\n",
            "18\n",
            "19\n"
          ]
        }
      ]
    },
    {
      "cell_type": "code",
      "source": [
        "arr8[arr8>5]"
      ],
      "metadata": {
        "colab": {
          "base_uri": "https://localhost:8080/"
        },
        "id": "ZR0YzIMWMZ5T",
        "outputId": "8008d525-29b5-44b4-ffd0-08794ade3857"
      },
      "execution_count": 112,
      "outputs": [
        {
          "output_type": "execute_result",
          "data": {
            "text/plain": [
              "array([ 6,  7,  8,  9, 10, 11, 12, 13, 14, 15, 16, 17, 18, 19])"
            ]
          },
          "metadata": {},
          "execution_count": 112
        }
      ]
    }
  ]
}