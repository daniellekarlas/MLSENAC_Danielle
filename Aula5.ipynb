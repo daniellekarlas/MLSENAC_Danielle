{
  "nbformat": 4,
  "nbformat_minor": 0,
  "metadata": {
    "colab": {
      "provenance": [],
      "authorship_tag": "ABX9TyO+090qvPPfFVWa30gk5GSm",
      "include_colab_link": true
    },
    "kernelspec": {
      "name": "python3",
      "display_name": "Python 3"
    },
    "language_info": {
      "name": "python"
    }
  },
  "cells": [
    {
      "cell_type": "markdown",
      "metadata": {
        "id": "view-in-github",
        "colab_type": "text"
      },
      "source": [
        "<a href=\"https://colab.research.google.com/github/daniellekarlas/MLSENAC_Danielle/blob/main/Aula5.ipynb\" target=\"_parent\"><img src=\"https://colab.research.google.com/assets/colab-badge.svg\" alt=\"Open In Colab\"/></a>"
      ]
    },
    {
      "cell_type": "code",
      "execution_count": null,
      "metadata": {
        "colab": {
          "base_uri": "https://localhost:8080/"
        },
        "id": "ZhvWz4-ZB9px",
        "outputId": "e61b0dc3-69b6-4b59-c1aa-c5ba9b914a24"
      },
      "outputs": [
        {
          "output_type": "stream",
          "name": "stdout",
          "text": [
            "Número 0\n",
            "Número 1\n",
            "Número 2\n",
            "Número 3\n",
            "Número 4\n"
          ]
        }
      ],
      "source": [
        "def funcaoLeitura():\n",
        "  for i in range(5):\n",
        "    print(\"Número\", i)\n",
        "funcaoLeitura()"
      ]
    },
    {
      "cell_type": "code",
      "source": [
        "#Função para somar dois números\n",
        "def addNum(n1,n2):\n",
        "  print(\"O primeiro número é:\", n1)\n",
        "  print(\"O segundo número é:\", n2)\n",
        "  print(\"A soma dos números é:\", n1+n2)\n",
        "\n",
        "addNum(10,20)"
      ],
      "metadata": {
        "colab": {
          "base_uri": "https://localhost:8080/"
        },
        "id": "0F_sE2hKL6F9",
        "outputId": "9525cbf3-c853-4546-dfed-3a771533bcc1"
      },
      "execution_count": null,
      "outputs": [
        {
          "output_type": "stream",
          "name": "stdout",
          "text": [
            "O primeiro número é: 10\n",
            "O segundo número é: 20\n",
            "A soma dos números é: 30\n"
          ]
        }
      ]
    },
    {
      "cell_type": "code",
      "source": [
        "varGlobal=10 #essa é uma variável global\n",
        "def multiplicacao (num1, num2):\n",
        "  varGlobal = (num1*num2) #essa é uma variável local\n",
        "  print(\"Variável da função Multiplica:\", varGlobal)\n",
        "\n",
        "multiplicacao(5,4)\n",
        "print(varGlobal)"
      ],
      "metadata": {
        "colab": {
          "base_uri": "https://localhost:8080/"
        },
        "id": "ozFktafvOcb2",
        "outputId": "1654eed8-e4f8-4d7a-e6cf-7afe4d5638bb"
      },
      "execution_count": null,
      "outputs": [
        {
          "output_type": "stream",
          "name": "stdout",
          "text": [
            "Variável da função Multiplica: 20\n",
            "10\n"
          ]
        }
      ]
    },
    {
      "cell_type": "code",
      "source": [
        "varGlobal=10 #essa é uma variável global\n",
        "def multiplica (num1, num2):\n",
        "  varLocal = (num1*num2) #essa é uma variável local\n",
        "  print(\"Variável da função Multiplica:\", varLocal)\n",
        "\n",
        "multiplicacao(5,4)\n"
      ],
      "metadata": {
        "colab": {
          "base_uri": "https://localhost:8080/"
        },
        "id": "8p5pUXLkPnhm",
        "outputId": "8ee6a6c6-be1f-468d-d2ef-8d8ee9bb8e32"
      },
      "execution_count": null,
      "outputs": [
        {
          "output_type": "stream",
          "name": "stdout",
          "text": [
            "Variável da função Multiplica: 20\n"
          ]
        }
      ]
    },
    {
      "cell_type": "code",
      "source": [
        "print(varLocal) ##essa variável (varLocal) só existe dentro da função, por isso deu erro. "
      ],
      "metadata": {
        "colab": {
          "base_uri": "https://localhost:8080/",
          "height": 166
        },
        "id": "fR66-Bv6PwcN",
        "outputId": "fb2c1039-32d0-4340-a1c5-ef0c04fd7958"
      },
      "execution_count": null,
      "outputs": [
        {
          "output_type": "error",
          "ename": "NameError",
          "evalue": "ignored",
          "traceback": [
            "\u001b[0;31m---------------------------------------------------------------------------\u001b[0m",
            "\u001b[0;31mNameError\u001b[0m                                 Traceback (most recent call last)",
            "\u001b[0;32m<ipython-input-15-a04a3907cacd>\u001b[0m in \u001b[0;36m<module>\u001b[0;34m\u001b[0m\n\u001b[0;32m----> 1\u001b[0;31m \u001b[0mprint\u001b[0m\u001b[0;34m(\u001b[0m\u001b[0mvarLocal\u001b[0m\u001b[0;34m)\u001b[0m \u001b[0;31m##essa variável (varLocal) só existe dentro da função, por isso deu erro.\u001b[0m\u001b[0;34m\u001b[0m\u001b[0;34m\u001b[0m\u001b[0m\n\u001b[0m",
            "\u001b[0;31mNameError\u001b[0m: name 'varLocal' is not defined"
          ]
        }
      ]
    },
    {
      "cell_type": "markdown",
      "source": [
        "esse abaixo foi um teste que eu fiz e deu certo :)"
      ],
      "metadata": {
        "id": "TIMR_wBjRRx5"
      }
    },
    {
      "cell_type": "code",
      "source": [
        "varGlobal2=int(input(\"Digite um número:\"))\n",
        "def multiplicacao(num1, num2):\n",
        "  varGlobal2=(num1,num2)\n",
        "  print(\"Variável da função multiplica\", varGlobal2)\n",
        "multiplica(varGlobal,4)\n",
        "print(varGlobal)"
      ],
      "metadata": {
        "colab": {
          "base_uri": "https://localhost:8080/"
        },
        "id": "gV3ZZhoiPDL-",
        "outputId": "e82e92dd-030d-47a2-b816-dad4b6df7add"
      },
      "execution_count": null,
      "outputs": [
        {
          "output_type": "stream",
          "name": "stdout",
          "text": [
            "Digite um número:10\n",
            "Variável da função Multiplica: 40\n",
            "10\n"
          ]
        }
      ]
    },
    {
      "cell_type": "code",
      "source": [
        "for i in range (5): print(i)"
      ],
      "metadata": {
        "colab": {
          "base_uri": "https://localhost:8080/"
        },
        "id": "auZ74WH_RXzT",
        "outputId": "399dc993-5928-45d5-9e13-4c657c3209ce"
      },
      "execution_count": null,
      "outputs": [
        {
          "output_type": "stream",
          "name": "stdout",
          "text": [
            "0\n",
            "1\n",
            "2\n",
            "3\n",
            "4\n"
          ]
        }
      ]
    },
    {
      "cell_type": "code",
      "source": [
        "def separarTexto(texto): return texto.split()"
      ],
      "metadata": {
        "id": "DSjKGpA-TUa5"
      },
      "execution_count": 2,
      "outputs": []
    },
    {
      "cell_type": "code",
      "source": [
        "def separarTexto(texto):\n",
        "  return texto.split()"
      ],
      "metadata": {
        "id": "DK8xTwpGT-WL"
      },
      "execution_count": 3,
      "outputs": []
    },
    {
      "cell_type": "code",
      "source": [
        "separarTexto(\"Cibele Maria\")"
      ],
      "metadata": {
        "colab": {
          "base_uri": "https://localhost:8080/"
        },
        "id": "4u-Ixc6a4c7j",
        "outputId": "ec35de94-30d9-4931-b47e-524554466d60"
      },
      "execution_count": 4,
      "outputs": [
        {
          "output_type": "execute_result",
          "data": {
            "text/plain": [
              "['Cibele', 'Maria']"
            ]
          },
          "metadata": {},
          "execution_count": 4
        }
      ]
    },
    {
      "cell_type": "code",
      "source": [
        "token=separarTexto(\"Cibele Maria\")"
      ],
      "metadata": {
        "id": "YekgmW7oTdVd"
      },
      "execution_count": null,
      "outputs": []
    },
    {
      "cell_type": "code",
      "source": [
        "print(token)"
      ],
      "metadata": {
        "colab": {
          "base_uri": "https://localhost:8080/"
        },
        "id": "7bHM9Mw8T0gL",
        "outputId": "dfa52e78-f735-41a3-9278-6219d9ebcc20"
      },
      "execution_count": null,
      "outputs": [
        {
          "output_type": "stream",
          "name": "stdout",
          "text": [
            "['Cibele', 'Maria']\n"
          ]
        }
      ]
    },
    {
      "cell_type": "code",
      "source": [
        "##quando não sabemos a quantidade de parâmetros basta usar * no parâmetro\n",
        "def variosParametros (*parametros):\n",
        "  for n, item in enumerate(parametros):\n",
        "    print(\"O parâmetro de %d é: \" %(n), item)\n",
        "  return;"
      ],
      "metadata": {
        "id": "rSTcIayTUifM"
      },
      "execution_count": null,
      "outputs": []
    },
    {
      "cell_type": "code",
      "source": [
        "variosParametros()"
      ],
      "metadata": {
        "id": "s71Y2tY-WIWk"
      },
      "execution_count": null,
      "outputs": []
    },
    {
      "cell_type": "code",
      "source": [
        "variosParametros(\"pitomba\", \"jambo\", \"siriguela\", \"umbu\")"
      ],
      "metadata": {
        "colab": {
          "base_uri": "https://localhost:8080/"
        },
        "id": "eqLowYzqVvJL",
        "outputId": "94e35ae2-162c-4ef7-e589-7bbbf80e1fb9"
      },
      "execution_count": null,
      "outputs": [
        {
          "output_type": "stream",
          "name": "stdout",
          "text": [
            "O parâmetro de 0 é:  pitomba\n",
            "O parâmetro de 1 é:  jambo\n",
            "O parâmetro de 2 é:  siriguela\n",
            "O parâmetro de 3 é:  umbu\n"
          ]
        }
      ]
    },
    {
      "cell_type": "code",
      "source": [
        "import math #pacote com um conjunto de funções matemática\n",
        "def numPrimo(num):\n",
        "  #verificando se um número é primo\n",
        "  if(num%2)==0 and num>2:\n",
        "    return (\"Este número não é primo\")\n",
        "  for i in range (3, int(math.sqrt(num))+1, 2):\n",
        "    if (num % i) == 0:\n",
        "      return (\"Este número não é primo\")\n",
        "  return (\"Este número é primo\")"
      ],
      "metadata": {
        "id": "KAHwj23QWb8t"
      },
      "execution_count": 10,
      "outputs": []
    },
    {
      "cell_type": "code",
      "source": [
        "numPrimo(0)"
      ],
      "metadata": {
        "colab": {
          "base_uri": "https://localhost:8080/",
          "height": 35
        },
        "id": "rfPDNTE7YU27",
        "outputId": "14f44d5c-84d9-4a1d-f39a-c169c42a60e2"
      },
      "execution_count": null,
      "outputs": [
        {
          "output_type": "execute_result",
          "data": {
            "text/plain": [
              "'Este número é primo'"
            ],
            "application/vnd.google.colaboratory.intrinsic+json": {
              "type": "string"
            }
          },
          "metadata": {},
          "execution_count": 54
        }
      ]
    },
    {
      "cell_type": "code",
      "source": [
        "def soma(n1, n2):\n",
        "  return n1+n2\n",
        "\n",
        "def subtrai (n1, n2):\n",
        "  return n1-n2\n",
        "\n",
        "def multiplica(n1,n2):\n",
        "  return n1*n2\n",
        "\n",
        "def divide (n1,n2):\n",
        "  return n1/n2"
      ],
      "metadata": {
        "id": "XaShy_6wYvpE"
      },
      "execution_count": 12,
      "outputs": []
    },
    {
      "cell_type": "code",
      "source": [
        "while True:\n",
        "  print(\"+==================+\")\n",
        "  print(\"| MENU DE OPERAÇÕES\")\n",
        "  print(\"| 1 - somar        \")\n",
        "  print(\"| 2 - subtrair     \")\n",
        "  print(\"| 3 - multiplicar  \")\n",
        "  print(\"| 4 - dividir      \")\n",
        "  print(\"| 0 - sair.        \")\n",
        "  print(\"+==================+\")\n",
        "\n",
        "  op = int(input())\n",
        "  if op==0:\n",
        "    break\n",
        "\n",
        "  n1 = int(input(\"Primeiro número:\"))\n",
        "  n2= int (input(\"Segundo número:\"))\n",
        "  if op==1:\n",
        "    print(\"O resultado da soma é: \", soma(n1,n2))\n",
        "  elif op==2:\n",
        "    print(\"O resultado da subtração é:\", subtrai(n1,n2))\n",
        "  elif op==3:\n",
        "    print(\"O resultado da multiplicação é:\", multiplica(n1,n2))\n",
        "  elif op==4:\n",
        "    print(\"O resultado da divisão é:\", divide(n1,n2))\n"
      ],
      "metadata": {
        "colab": {
          "base_uri": "https://localhost:8080/"
        },
        "id": "NASTwJIzZ7K5",
        "outputId": "f60612cf-a305-4795-cb02-595a15c3f52b"
      },
      "execution_count": 13,
      "outputs": [
        {
          "name": "stdout",
          "output_type": "stream",
          "text": [
            "+==================+\n",
            "| MENU DE OPERAÇÕES\n",
            "| 1 - somar        \n",
            "| 2 - subtrair     \n",
            "| 3 - multiplicar  \n",
            "| 4 - dividir      \n",
            "| 0 - sair.        \n",
            "+==================+\n",
            "1\n",
            "Primeiro número:10\n",
            "Segundo número:4\n",
            "O resultado da soma é:  14\n",
            "+==================+\n",
            "| MENU DE OPERAÇÕES\n",
            "| 1 - somar        \n",
            "| 2 - subtrair     \n",
            "| 3 - multiplicar  \n",
            "| 4 - dividir      \n",
            "| 0 - sair.        \n",
            "+==================+\n",
            "2\n",
            "Primeiro número:20\n",
            "Segundo número:4\n",
            "O resultado da subtração é: 16\n",
            "+==================+\n",
            "| MENU DE OPERAÇÕES\n",
            "| 1 - somar        \n",
            "| 2 - subtrair     \n",
            "| 3 - multiplicar  \n",
            "| 4 - dividir      \n",
            "| 0 - sair.        \n",
            "+==================+\n",
            "0\n"
          ]
        }
      ]
    },
    {
      "cell_type": "code",
      "source": [
        "class Pessoa():\n",
        "  def __init__(self, n, i):\n",
        "    self.nome=n\n",
        "    self.idade=i\n",
        "\n",
        "  def apresentacao(self):\n",
        "    print(\"Seja bem vindo ao sistema SENAC!\")\n",
        "\n",
        "class PessoaFisica():\n",
        "  def __init__(self, n, i, cpf):\n",
        "    self.nome=n\n",
        "    self.idade=i\n",
        "    self.cpf=cpf\n",
        "  \n",
        "  def apresentacao(self):\n",
        "    print(\"Seja bem vindo ao sistema SENAC\")\n",
        "  \n",
        "  def impostoDeRenda(self, *salario):\n",
        "    s=sum(salario)\n",
        "    ir=s*0.015\n",
        "    print(\"O valor do seu imposto de renda é R$\", ir)\n",
        "    return ir\n",
        "\n",
        "class PessoaJuridica():\n",
        "  def __init__(self, n, i, cnpj):\n",
        "    self.nome=n\n",
        "    self.idade=i\n",
        "    self.cnpj=cnpj\n",
        "  \n",
        "  def apresentacao(self):\n",
        "    print(\"Seja bem vindo ao Python!\")\n",
        "  \n",
        "  def impostoDeRenda(self, salario):\n",
        "    ir=salario*0.10\n",
        "    print(\"O valor do seu imposto de renda é R$\", ir)\n",
        "    return ir"
      ],
      "metadata": {
        "id": "1ZsujQ65c7ht"
      },
      "execution_count": 14,
      "outputs": []
    },
    {
      "cell_type": "code",
      "source": [
        "nome=str(input(\"Nome:\"))\n",
        "age=int(input(\"Idade:\"))\n",
        "cnpj=int(input(\"CNPJ: \"))\n",
        "serumaninho = Pessoa(nome, age)\n",
        "comunidade = PessoaJuridica(nome, age, cnpj)\n",
        "\n"
      ],
      "metadata": {
        "colab": {
          "base_uri": "https://localhost:8080/"
        },
        "id": "G8-9uVWAgFKl",
        "outputId": "44b769d0-9ce6-4cc6-e629-07a389337fbd"
      },
      "execution_count": 15,
      "outputs": [
        {
          "name": "stdout",
          "output_type": "stream",
          "text": [
            "Nome:Dani\n",
            "Idade:41\n",
            "CNPJ: 0000\n"
          ]
        }
      ]
    },
    {
      "cell_type": "code",
      "source": [
        "serumaninho.nome"
      ],
      "metadata": {
        "id": "cDVm5idWiMpO",
        "colab": {
          "base_uri": "https://localhost:8080/",
          "height": 35
        },
        "outputId": "33c1ac49-2f56-4eeb-f6bd-2255347724a0"
      },
      "execution_count": 16,
      "outputs": [
        {
          "output_type": "execute_result",
          "data": {
            "text/plain": [
              "'Dani'"
            ],
            "application/vnd.google.colaboratory.intrinsic+json": {
              "type": "string"
            }
          },
          "metadata": {},
          "execution_count": 16
        }
      ]
    },
    {
      "cell_type": "code",
      "source": [
        "serumaninho.idade"
      ],
      "metadata": {
        "id": "B-GC8VFbiQY-",
        "colab": {
          "base_uri": "https://localhost:8080/"
        },
        "outputId": "41302aeb-b232-4c23-8a64-1f04df73c5fb"
      },
      "execution_count": 17,
      "outputs": [
        {
          "output_type": "execute_result",
          "data": {
            "text/plain": [
              "41"
            ]
          },
          "metadata": {},
          "execution_count": 17
        }
      ]
    },
    {
      "cell_type": "code",
      "source": [
        "serumaninho.apresentacao()"
      ],
      "metadata": {
        "id": "Jl8bIpR-iS2l",
        "colab": {
          "base_uri": "https://localhost:8080/"
        },
        "outputId": "d04b7aa6-5644-419d-922d-07f513e67c56"
      },
      "execution_count": 18,
      "outputs": [
        {
          "output_type": "stream",
          "name": "stdout",
          "text": [
            "Seja bem vindo ao sistema SENAC!\n"
          ]
        }
      ]
    },
    {
      "cell_type": "code",
      "source": [
        "salario=float(input(\"Receita:\"))\n",
        "comunidade.impostoDeRenda(salario)\n",
        "print(\"Fim!\")"
      ],
      "metadata": {
        "colab": {
          "base_uri": "https://localhost:8080/"
        },
        "id": "YqzGNqRKieUx",
        "outputId": "de0278bc-1562-4008-a471-6c52f343a51e"
      },
      "execution_count": 19,
      "outputs": [
        {
          "output_type": "stream",
          "name": "stdout",
          "text": [
            "Receita:5500.00\n",
            "O valor do seu imposto de renda é R$ 550.0\n",
            "Fim!\n"
          ]
        }
      ]
    }
  ]
}