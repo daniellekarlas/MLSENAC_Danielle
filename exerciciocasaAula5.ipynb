{
  "nbformat": 4,
  "nbformat_minor": 0,
  "metadata": {
    "colab": {
      "provenance": [],
      "authorship_tag": "ABX9TyMulIngOmFHXmQBPedV+gAT",
      "include_colab_link": true
    },
    "kernelspec": {
      "name": "python3",
      "display_name": "Python 3"
    },
    "language_info": {
      "name": "python"
    }
  },
  "cells": [
    {
      "cell_type": "markdown",
      "metadata": {
        "id": "view-in-github",
        "colab_type": "text"
      },
      "source": [
        "<a href=\"https://colab.research.google.com/github/daniellekarlas/MLSENAC_Danielle/blob/main/exerciciocasaAula5.ipynb\" target=\"_parent\"><img src=\"https://colab.research.google.com/assets/colab-badge.svg\" alt=\"Open In Colab\"/></a>"
      ]
    },
    {
      "cell_type": "code",
      "execution_count": null,
      "metadata": {
        "id": "S2-96UY3rev8"
      },
      "outputs": [],
      "source": [
        "#i)\n",
        "class Pessoa():\n",
        "  def __init__(self, name, age): #variaveis da função\n",
        "    self.nome=name #atributo da classe\n",
        "    self.idade=age #atributo da classe\n",
        "\n",
        "def nascimento (self, idade): #variavel da função\n",
        "  return (2022-idade) #retorna o ano que a pessoa nasceu\n"
      ]
    },
    {
      "cell_type": "code",
      "source": [
        "#ii)\n",
        "pessoal=Pessoa(\"Maria\", 35) #criando um objeto a partir da classe Pessoa\n",
        "pessoa1.nome #chamando um atributo do objeto\n",
        "pessoa1.idade #chamando um atributo do objeto\n",
        "pessoa1.nascimento (35) #chamando um método do objeto\n"
      ],
      "metadata": {
        "id": "FQb9xBXxsedE"
      },
      "execution_count": null,
      "outputs": []
    },
    {
      "cell_type": "code",
      "source": [
        "#iii)\n",
        "listaDePessoas=[] #criando lista vazia\n",
        "for i in range (5): #frequencia de repetição do looping for, segundo a questão\n",
        "  nome=str(input(\"Nome:\")) #entrada de dados\n",
        "  idade=int(input(\"Idade:\")) #entrada de dados\n",
        "  pessoa=Pessoa(nome, idade) #criando objeto pessoa com a classe pessoa\n",
        "  listaDePessoas.append(pessoa) #cada objeto da lista é um objeto com métodos e atributos\n",
        "\n",
        "for objeto in range(len(listaDePessoas)): #acessando cada objeto da lista de objetos pessoas\n",
        "#acessando os atributos nome e idade de cada objeto\n",
        "print(\"Nome: %s, idade:%d\" %(listaDePessoas[objeto].nome, listaDePessoas[objeto].idade))"
      ],
      "metadata": {
        "id": "AYB3xrVys94t"
      },
      "execution_count": null,
      "outputs": []
    },
    {
      "cell_type": "markdown",
      "source": [
        "1.Criar as classes Pessoa, PessoaFisica e PessoaJuridica.\n",
        "Atributos da classe Pessoa: nome, idade\n",
        "Atributos da classe PessoaFisica: nome, idade, CPF\n",
        "Atributos da classe PessoaJuridica: nome, idade, CNPJ"
      ],
      "metadata": {
        "id": "2VOlpxVbuUyS"
      }
    },
    {
      "cell_type": "code",
      "source": [
        "class Pessoa():\n",
        "  def __init__(self, nome, idade):\n",
        "    self.nome=nome\n",
        "    self.idade=idade\n",
        "\n",
        "class PessoaFisica():\n",
        "  def __init__(self, nome, idade, cpf):\n",
        "    self.nome=nome\n",
        "    self.idade=idade\n",
        "    self.cpf=cpf\n",
        "\n",
        "class PessoaJuridica():\n",
        "  def __init__(self, nome, idade, cnpj):\n",
        "    self.nome=nome\n",
        "    self.idade=idade\n",
        "    self.cnpj=cnpj\n",
        "\n",
        " "
      ],
      "metadata": {
        "id": "p5eI2VIZuaoD"
      },
      "execution_count": null,
      "outputs": []
    },
    {
      "cell_type": "markdown",
      "source": [
        "2. Em todas as classes\n",
        "Acrescentar um Método, que mostra uma mensagem de\n",
        "apresentação.\n",
        "Ex: “Seja bem-vindo ao SENAC!”"
      ],
      "metadata": {
        "id": "0EiNcNDAua9_"
      }
    },
    {
      "cell_type": "code",
      "source": [
        " class Pessoa():\n",
        "  def __init__(self, nome, idade):\n",
        "    self.nome=nome\n",
        "    self.idade=idade\n",
        "  \n",
        "  def apresentacao(self):\n",
        "    print(\"Seja bem vindo ao sistema SENAC\")\n",
        "\n",
        "class PessoaFisica():\n",
        "  def __init__(self, nome, idade, cpf):\n",
        "    self.nome=nome\n",
        "    self.idade=idade\n",
        "    self.cpf=cpf\n",
        "  \n",
        "  def apresentacao(self):\n",
        "    print(\"Seja bem vindo ao sistema SENAC\")\n",
        "\n",
        "class PessoaJuridica():\n",
        "  def __init__(self, nome, idade, cnpj):\n",
        "    self.nome=nome\n",
        "    self.idade=idade\n",
        "    self.cnpj=cnpj\n",
        " \n",
        "  def apresentacao(self):\n",
        "    print(\"Seja bem vindo ao sistema SENAC\")\n",
        "\n"
      ],
      "metadata": {
        "id": "cSHY1yxtucaT"
      },
      "execution_count": null,
      "outputs": []
    },
    {
      "cell_type": "markdown",
      "source": [
        "3.Nas classes: PessoaFisica e PessoaJuridica acrescentar uma Função, que\n",
        "calcule o valor do imposto de renda.\n",
        "OBS: na classe PessoaFisica a taxa do imposto sobre o salário é de 1.5%.\n",
        "Enquanto que na classe PessoaJuridica a taxa do imposto sobre o salário é de\n",
        "10%. Em ambas as classes retorne e informe o valor do imposto de renda.\n",
        "IR = salario*taxa.\n",
        "Instanciem um objeto para cada classe utilizando uma variável de referência."
      ],
      "metadata": {
        "id": "fmwgZWWKuc3Q"
      }
    },
    {
      "cell_type": "code",
      "source": [
        "class PessoaFisica():\n",
        "  def __init__(self, nome, idade, cpf):\n",
        "    self.nome=nome\n",
        "    self.idade=idade\n",
        "    self.cpf=cpf\n",
        "  \n",
        "  def apresentacao(self):\n",
        "    print(\"Seja bem vindo ao sistema SENAC\")\n",
        "  \n",
        "  def impostoDeRenda(self, salario):\n",
        "    ir=salario*0.10\n",
        "    print(\"O Valor do seu imposto de renda é R$\", ir)\n",
        "    return ir \n",
        "\n",
        "class PessoaJuridica():\n",
        "  def __init__(self, nome, idade, cnpj):\n",
        "    self.nome=nome\n",
        "    self.idade=idade\n",
        "    self.cnpj=cnpj\n",
        " \n",
        "  def apresentacao(self):\n",
        "    print(\"Seja bem vindo ao sistema SENAC\")\n",
        "  \n",
        "  def impostoDeRenda(self, salario):\n",
        "    ir=salario*0.15\n",
        "    print(\"O valor do seu imposto de renda é R$\", ir)\n",
        "    return ir"
      ],
      "metadata": {
        "id": "oG9FOYWwugoI"
      },
      "execution_count": null,
      "outputs": []
    },
    {
      "cell_type": "markdown",
      "source": [
        "4. Na classe: PessoaFisica alterem a Função impostoDeRenda,\n",
        "para atender pessoas que tem mais de um emprego. Calcule o\n",
        "valor do imposto de renda para o salário de cada emprego.\n",
        "OBS: Deixe que seja possível utilizar a mesma classe e a mesma\n",
        "função, porém com um ou mais parâmetros\n",
        "Ex: pessoa.impostoDeRenda(2200, 3500)\n",
        "pessoa.impostoDeRenda(3600, 2700, 4100, 1900)"
      ],
      "metadata": {
        "id": "WqGahI9WuhXU"
      }
    },
    {
      "cell_type": "code",
      "source": [
        "def impostoDeRenda(self, salario):  \n",
        "  qtdeEmprego=input(\"Você tem quantos empregos?\")\n",
        "  for i in range(len(qtdeEmprego)): \n",
        "    salario=float(input(\"Digite aqui o seu salário:\")) \n",
        "    ir=salario*0.10\n",
        "    print(\"O Valor do seu imposto de renda é R$\", ir)\n",
        "    return ir\n"
      ],
      "metadata": {
        "id": "kgCLvv6muxYH"
      },
      "execution_count": null,
      "outputs": []
    },
    {
      "cell_type": "markdown",
      "source": [
        " 5. Deixa que as classes PessoaFisica e PessoaJuridica sejam herdeiras da classe Pessoa. Deste modo, não será necessário declarar os atributos nome e idade, nem o método de apresentação, então excluam.\n",
        "Isso acontece porque quando utilizamos o método Herança aproveitamos os atributos e métodos da classe mãe (Pessoa()).\n",
        " "
      ],
      "metadata": {
        "id": "BmRM_sLTuxu6"
      }
    },
    {
      "cell_type": "markdown",
      "source": [],
      "metadata": {
        "id": "IFIXs3JG85mP"
      }
    },
    {
      "cell_type": "code",
      "source": [
        "class PessoaFisica():\n",
        "  def __init__(self, Pessoa, cpf):\n",
        "    self.Pessoa=Pessoa()\n",
        "    self.cpf=cpf\n",
        "\n",
        "class PessoaJuridica():\n",
        "  def __init__(self, Pessoa, cnpj):\n",
        "    self.Pessoa=Pessoa()\n",
        "    self.cnpj=cnpj"
      ],
      "metadata": {
        "id": "eonMlMICuyxU"
      },
      "execution_count": null,
      "outputs": []
    },
    {
      "cell_type": "markdown",
      "source": [
        " 6. Na função impostoDeRenda() da classe PessoaJuridica inclua o parâmetro porteDaEmpresa, pois ele é quem define o valor da taxa utilizada no cálculo do imposto de renda da empresa.\n",
        "- Se a empresa for de pequeno porte a taxa deverá ser 10%; - Se a empresa for de médio porte a taxa deverá ser 15%;\n",
        "- Se a empresa for de grande porte a taxa deverá ser 20%.\n",
        " "
      ],
      "metadata": {
        "id": "UU6Xi5_IuzDj"
      }
    },
    {
      "cell_type": "code",
      "source": [
        "porteDaEmpresa=input(\"Qual o porte da empresa (pequena, média ou grande)?\")\n",
        "salario=float(input(\"Digite a receita da empresa:\"))\n",
        "def impostoDeRenda(self, salario):\n",
        "  self.salario=salario\n",
        "if porteDaEmpresa == \"pequena\":\n",
        "  print(\"O valor do seu imposto de renda é R$\", salario*0.10)\n",
        "if porteDaEmpresa == \"média\":\n",
        "  print(\"O valor do seu imposto de renda é R$\", salario*0.15)\n",
        "if porteDaEmpresa == \"grande\":\n",
        "  print(\"O valor do seu imposto de renda é R$\", salario*0.20)\n",
        "      \n",
        "\n"
      ],
      "metadata": {
        "id": "noyoRU2nu1xq",
        "colab": {
          "base_uri": "https://localhost:8080/"
        },
        "outputId": "fb49940f-9bff-46fc-fcc2-a5a9ede7e31e"
      },
      "execution_count": null,
      "outputs": [
        {
          "output_type": "stream",
          "name": "stdout",
          "text": [
            "Qual o porte da empresa (pequena, média ou grande)?grande\n",
            "Digite a receita da empresa:5000\n",
            "O valor do seu imposto de renda é R$ 1000.0\n"
          ]
        }
      ]
    },
    {
      "cell_type": "markdown",
      "source": [
        " 7. Peça nome e idade do usuário para instanciar a classe Pessoa; Pergunte ao usuário o tipo de pessoa:\n",
        "Se for física solicite o CPF para instanciar a classe PessoaFisica e em seguida solicite o salário para calcular o imposto de renda da pessoa;\n",
        "Caso contrário Se for Juridica solicite o CNPJ para instanciar a classe PessoaJuridica e em seguida solicite a receita e o porte da empresa para calcular o imposto de renda da pessoa.\n",
        "Deixe os dados nome e idade sejam privados.\n",
        "  "
      ],
      "metadata": {
        "id": "6U_vpa4xu2GH"
      }
    },
    {
      "cell_type": "code",
      "source": [
        "class Pessoa():\n",
        "  def __init__(self, nome, idade):\n",
        "    self.nome=nome\n",
        "    self.idade=idade  \n",
        "    nome=input(\"Digite o seu nome:\")\n",
        "    idade=int(input(\"Digite a sua idade:\"))\n",
        "    tipo=input(\"Pessoa física ou jurídica?\")\n",
        "    if tipo == \"física\":\n",
        "      cpf=input(\"Digite aqui o seu CPF:\")\n",
        "class PessoaFisica():\n",
        "  def __init__(self, Pessoa, cpf):\n",
        "    self.Pessoa=Pessoa()\n",
        "    self.cpf=cpf\n",
        "    salario=float(input(\"Digite aqui o seu salário:\"))\n",
        "    print(\"O valor do seu imposto de renda é R$\", salario*0.10)\n",
        "    if tipo==\"jurídica\":\n",
        "      cnpj=input(\"Digite aqui o seu cnpj:\")\n",
        "class PessoaJuridica():\n",
        "  def __init__(self, Pessoa, cnpj):\n",
        "    self.Pessoa=Pessoa()\n",
        "    self.cnpj=cnpj\n",
        "    receita=float(input(\"Digita aqui a receita da empresa\"))\n",
        "    porteDaEmpresa=input(\"Qual o porte da empresa (pequena, média ou grande)?\")\n",
        "    if porteDaEmpresa ==\"pequena\":\n",
        "      print(\"O valor do seu imposto de renda é R$\", receita*0.10)\n",
        "    if porteDaEmpresa ==\"média\":\n",
        "      print(\"O valor do seu imposto de renda é R$\", receita*0.15)\n",
        "    if porteDaEmpresa ==\"grande\":\n",
        "      print(\"O valor do seu imposto de renda é R$\", receita*0.20)\n",
        "\n"
      ],
      "metadata": {
        "id": "Ou602xWqu48u"
      },
      "execution_count": null,
      "outputs": []
    },
    {
      "cell_type": "code",
      "source": [
        "nome=input(\"Digite o seu nome:\")\n",
        "idade=int(input(\"Digite a sua idade:\"))\n",
        "tipo=input(\"Pessoa física ou jurídica?\")\n",
        "if tipo == \"física\":\n",
        "  cpf=input(\"Digite aqui o seu CPF:\")\n",
        "  salario=float(input(\"Digite aqui o seu salário:\"))\n",
        "  print(\"O valor do seu imposto de renda é R$\", salario*0.10)\n",
        "elif tipo==\"jurídica\":\n",
        "  cnpj=input(\"Digite aqui o seu cnpj:\")\n",
        "  receita=float(input(\"Digita aqui a receita da empresa\"))\n",
        "  porteDaEmpresa=input(\"Qual o porte da empresa (pequena, média ou grande)?\")\n",
        "  if porteDaEmpresa ==\"pequena\":\n",
        "    print(\"O valor do seu imposto de renda é R$\", receita*0.10)\n",
        "  if porteDaEmpresa ==\"média\":\n",
        "    print(\"O valor do seu imposto de renda é R$\", receita*0.15)\n",
        "  if porteDaEmpresa ==\"grande\":\n",
        "    print(\"O valor do seu imposto de renda é R$\", receita*0.20)\n",
        "fisica=PessoaFisica(nome, idade, cpf)\n",
        "juridica=PessoaJuridica(nome, idade, cnpj)"
      ],
      "metadata": {
        "id": "ungjGcUmjrft"
      },
      "execution_count": null,
      "outputs": []
    },
    {
      "cell_type": "code",
      "source": [
        "nome=input(\"Digite o seu nome:\")\n",
        "idade=int(input(\"Digite a sua idade:\"))\n",
        "class Pessoa():\n",
        "  def __init__(self, nome, idade):\n",
        "    self.nome=nome\n",
        "    self.idade=idade\n",
        "tipo=input(\"Pessoa física ou jurídica?\")\n",
        "if tipo == \"física\":\n",
        "  cpf=input(\"Digite aqui o seu CPF:\")\n",
        "  salario=float(input(\"Digite aqui o seu salário:\"))\n",
        "  print(\"O valor do seu imposto de renda é R$\", salario*0.10)\n",
        "elif tipo==\"jurídica\":\n",
        "  cnpj=input(\"Digite aqui o seu cnpj:\")\n",
        "  receita=float(input(\"Digita aqui a receita da empresa\"))\n",
        "  porteDaEmpresa=input(\"Qual o porte da empresa (pequena, média ou grande)?\")\n",
        "  if porteDaEmpresa ==\"pequena\":\n",
        "    print(\"O valor do seu imposto de renda é R$\", receita*0.10)\n",
        "  if porteDaEmpresa ==\"média\":\n",
        "    print(\"O valor do seu imposto de renda é R$\", receita*0.15)\n",
        "  if porteDaEmpresa ==\"grande\":\n",
        "    print(\"O valor do seu imposto de renda é R$\", receita*0.20)\n"
      ],
      "metadata": {
        "colab": {
          "base_uri": "https://localhost:8080/"
        },
        "id": "L29D24kQlc4I",
        "outputId": "4d4610ce-d2e5-4ce6-cc93-c57d86cd0063"
      },
      "execution_count": null,
      "outputs": [
        {
          "output_type": "stream",
          "name": "stdout",
          "text": [
            "Digite o seu nome:danielle\n",
            "Digite a sua idade:41\n",
            "Pessoa física ou jurídica?física\n",
            "Digite aqui o seu CPF:0000\n",
            "Digite aqui o seu salário:1000\n",
            "O valor do seu imposto de renda é R$ 100.0\n"
          ]
        }
      ]
    },
    {
      "cell_type": "code",
      "source": [
        "nome=input(\"Digite o seu nome:\")\n",
        "idade=int(input(\"Digite a sua idade:\"))\n",
        "class Pessoa():\n",
        "  def __init__(self, nome, idade):\n",
        "    self.nome=nome\n",
        "    self.idade=idade\n",
        "tipo=input(\"Pessoa física ou jurídica?\")\n",
        "if tipo == \"física\":\n",
        "  cpf=input(\"Digite aqui o seu CPF:\")\n",
        "class PessoaFisica():\n",
        "  def __init__(self, Pessoa, cpf):\n",
        "    self.Pessoa=Pessoa()\n",
        "    self.cpf=cpf\n",
        "    salario=float(input(\"Digite aqui o seu salário:\"))\n",
        "    print(\"O valor do seu imposto de renda é R$\", salario*0.10)\n",
        "if tipo==\"jurídica\":\n",
        "  cnpj=input(\"Digite aqui o seu cnpj:\")\n",
        "class PessoaJuridica():\n",
        "  def __init__(self, Pessoa, cnpj):\n",
        "    self.Pessoa=Pessoa()\n",
        "    self.cnpj=cnpj\n",
        "  receita=float(input(\"Digita aqui a receita da empresa\"))\n",
        "  porteDaEmpresa=input(\"Qual o porte da empresa (pequena, média ou grande)?\")\n",
        "  if porteDaEmpresa ==\"pequena\":\n",
        "    print(\"O valor do seu imposto de renda é R$\", receita*0.10)\n",
        "  if porteDaEmpresa ==\"média\":\n",
        "    print(\"O valor do seu imposto de renda é R$\", receita*0.15)\n",
        "  if porteDaEmpresa ==\"grande\":\n",
        "    print(\"O valor do seu imposto de renda é R$\", receita*0.20)"
      ],
      "metadata": {
        "colab": {
          "base_uri": "https://localhost:8080/"
        },
        "id": "7GQSL0Kpn_-C",
        "outputId": "441b8311-5fc2-4f84-b5ab-369124d653d7"
      },
      "execution_count": 14,
      "outputs": [
        {
          "output_type": "stream",
          "name": "stdout",
          "text": [
            "Digite o seu nome:danielle\n",
            "Digite a sua idade:41\n",
            "Pessoa física ou jurídica?jurídica\n",
            "Digite aqui o seu cnpj:0000\n",
            "Digita aqui a receita da empresa3000\n",
            "Qual o porte da empresa (pequena, média ou grande)?pequena\n",
            "O valor do seu imposto de renda é R$ 300.0\n"
          ]
        }
      ]
    }
  ]
}