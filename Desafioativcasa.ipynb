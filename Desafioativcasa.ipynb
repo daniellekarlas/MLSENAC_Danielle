{
  "nbformat": 4,
  "nbformat_minor": 0,
  "metadata": {
    "colab": {
      "provenance": [],
      "authorship_tag": "ABX9TyO+94IIAmJE0i34Lk7EXyoS",
      "include_colab_link": true
    },
    "kernelspec": {
      "name": "python3",
      "display_name": "Python 3"
    },
    "language_info": {
      "name": "python"
    }
  },
  "cells": [
    {
      "cell_type": "markdown",
      "metadata": {
        "id": "view-in-github",
        "colab_type": "text"
      },
      "source": [
        "<a href=\"https://colab.research.google.com/github/daniellekarlas/MLSENAC_Danielle/blob/main/Desafioativcasa.ipynb\" target=\"_parent\"><img src=\"https://colab.research.google.com/assets/colab-badge.svg\" alt=\"Open In Colab\"/></a>"
      ]
    },
    {
      "cell_type": "markdown",
      "source": [
        "1) Utilize lista ou dicionário com 5 perguntas para uma pessoa sobre um crime. As perguntas são:\n",
        "\"Telefonou para a vítima?\", \"Esteve no local do crime?\" \"Mora perto da vítima?\" \"Devia para a vítima?\"\n",
        "\"Já trabalhou com a vítima?\"\n",
        "O seu programa deve utilizar o índice da lista ou a chave do dicionário para direcionar a pergunta para o usuário.\n",
        "Ao final das perguntas, seu programa deve emitir uma classificação sobre a participação da pessoa no crime.\n",
        "Por exemplo: Se a pessoa responder positivamente a 2 questões ela deve ser classificada como \"Suspeito grau 1\", entre 3 e 4 como \"Suspeito grau 2\" e 5 como \"Suspeito grau 3: Principal suspeito\".\n",
        "Caso contrário, ele será classificado como \"Inocente\"."
      ],
      "metadata": {
        "id": "nGDMeJB_amkZ"
      }
    },
    {
      "cell_type": "code",
      "source": [
        "respostas=[]\n",
        "perguntas=[int(input(\"Telefonou para a vítima? 1(sim) ou 0 (não)\")), int(input(\"Esteve no local do crime? 1(sim) ou 0 (não)\")), int(input(\"Mora Perto da vítima? 1(sim) ou 0 (não)\")), int(input(\"Devia para a vítima? 1(sim) ou 0 (não)\")), int(input(\"Já trabalhou para a vítima? 1(sim) ou 0 (não)\"))]\n",
        "somaRespostas=0\n",
        "for i in perguntas:\n",
        "  somaRespostas+=int(i)\n",
        "status = [\"Inocente\", \"Suspeito grau 1\", \"Suspeito grau 2\", \"Suspeito grau 3: principal suspeito\"]\n",
        "if somaRespostas <2:\n",
        "  print(status[0])\n",
        "elif somaRespostas ==2:\n",
        "  print(status[1])\n",
        "elif somaRespostas ==3 or somaRespostas==4:\n",
        "  print(status[2])\n",
        "elif somaRespostas ==5:\n",
        "  print(status[3])"
      ],
      "metadata": {
        "colab": {
          "base_uri": "https://localhost:8080/"
        },
        "id": "U1HyW1dNGJ2t",
        "outputId": "f787fef0-a4e8-4f8d-a09e-538fea3d5117"
      },
      "execution_count": null,
      "outputs": [
        {
          "output_type": "stream",
          "name": "stdout",
          "text": [
            "Telefonou para a vítima? 1(sim) ou 0 (não)1\n",
            "Esteve no local do crime? 1(sim) ou 0 (não)1\n",
            "Mora Perto da vítima? 1(sim) ou 0 (não)1\n",
            "Devia para a vítima? 1(sim) ou 0 (não)1\n",
            "Já trabalhou para a vítima? 1(sim) ou 0 (não)1\n",
            "Suspeito grau 3: principal suspeito\n"
          ]
        }
      ]
    },
    {
      "cell_type": "markdown",
      "source": [
        "2) Utilize uma lista para resolver o problema a seguir. Uma empresa\n",
        "paga seus vendedores com base em comissões. O vendedor recebe\n",
        "$200 por semana mais 9% de suas vendas brutas daquela semana.\n",
        "\n",
        "Por exemplo, um vendedor que teve vendas brutas de $3000 em uma\n",
        "semana recebe $200 mais 9% de $3000, ou seja, um total de $470.\n",
        "Escreva um programa que determine quantos vendedores receberam\n",
        "salários nos seguintes intervalos de valores.\n",
        "\n",
        "$200 - $299\n",
        "$300 - $399\n",
        "$400 - $499\n",
        "$500 - $599\n",
        "$600 - $699\n",
        "$700 - $799\n",
        "$800 - $899\n",
        "$900 - $999\n",
        "$1000 em diante"
      ],
      "metadata": {
        "id": "nzKSHjPOKuMB"
      }
    },
    {
      "cell_type": "code",
      "source": [
        "salarios=[250, 280, 350, 450, 550, 650, 750, 850, 950, 1050, 1100]\n",
        "contFaixaSalarial=[0]*9\n",
        "for salario in salarios:\n",
        "  indice=salario//100-2\n",
        "  indiceMaximo=len(contFaixaSalarial)-1\n",
        "  indice=min(indice, indiceMaximo)\n",
        "  contFaixaSalarial[indice]+=1\n",
        "print(contFaixaSalarial)"
      ],
      "metadata": {
        "colab": {
          "base_uri": "https://localhost:8080/"
        },
        "id": "Gg3ebVkbfPvb",
        "outputId": "f68250ff-6ac1-46be-8bd9-b6809798722d"
      },
      "execution_count": 90,
      "outputs": [
        {
          "output_type": "stream",
          "name": "stdout",
          "text": [
            "[2, 1, 1, 1, 1, 1, 1, 1, 2]\n"
          ]
        }
      ]
    },
    {
      "cell_type": "markdown",
      "source": [
        "3) Faça um Programa que leia um vetor de 10 números reais e\n",
        "mostre-os na ordem inversa."
      ],
      "metadata": {
        "id": "8X2FOOmoK3Gb"
      }
    },
    {
      "cell_type": "code",
      "source": [
        "numeros=[]\n",
        "for i in range(10):\n",
        "  numeros.append(input(\"Digite um número:\"))\n",
        "numeros.reverse()\n",
        "print(numeros)"
      ],
      "metadata": {
        "colab": {
          "base_uri": "https://localhost:8080/"
        },
        "id": "_mAPEcbyK6Pq",
        "outputId": "0e4f8167-4c99-4481-a14a-37cbb9bc7cd8"
      },
      "execution_count": 106,
      "outputs": [
        {
          "output_type": "stream",
          "name": "stdout",
          "text": [
            "Digite um número:1\n",
            "Digite um número:2\n",
            "Digite um número:3\n",
            "Digite um número:4\n",
            "Digite um número:5\n",
            "Digite um número:6\n",
            "Digite um número:7\n",
            "Digite um número:8\n",
            "Digite um número:9\n",
            "Digite um número:10\n",
            "['10', '9', '8', '7', '6', '5', '4', '3', '2', '1']\n"
          ]
        }
      ]
    },
    {
      "cell_type": "markdown",
      "source": [
        "4)Faça um Programa que peça as quatro notas de 10 alunos, calcule\n",
        "e armazene num vetor a média de cada aluno, imprima o número de\n",
        "alunos com média maior ou igual a 7.0."
      ],
      "metadata": {
        "id": "mF_LNIuKK6pm"
      }
    },
    {
      "cell_type": "code",
      "source": [
        "alunos=10\n",
        "notas=4\n",
        "medias=[]\n",
        "med7=0\n",
        "\n",
        "for n in range(alunos):\n",
        "  media=0\n",
        "  for m in range(notas):\n",
        "    media+=float(input(f\"Digite a nota {m+1} do aluno {n+1}:\"))\n",
        "  media /=notas\n",
        "  medias.append(media)\n",
        "  if media >=7:\n",
        "    med7+=1\n",
        "\n",
        "print(\"\\nA média dos alunos foi:\")\n",
        "for n in range(alunos):\n",
        "  print(f\"Aluno {n+1}: {medias[n]}\")\n",
        "\n",
        "print(f\"\\n{med7} alunos tiveram média maior ou igual a 7.\")"
      ],
      "metadata": {
        "colab": {
          "base_uri": "https://localhost:8080/"
        },
        "id": "OF2bVDTAK-9d",
        "outputId": "2a579b7a-64ce-4618-9026-66495aa49936"
      },
      "execution_count": 111,
      "outputs": [
        {
          "output_type": "stream",
          "name": "stdout",
          "text": [
            "Digite a nota 1 do aluno 1:4\n",
            "Digite a nota 2 do aluno 1:5\n",
            "Digite a nota 3 do aluno 1:7\n",
            "Digite a nota 4 do aluno 1:8\n",
            "Digite a nota 1 do aluno 2:2\n",
            "Digite a nota 2 do aluno 2:5\n",
            "Digite a nota 3 do aluno 2:8\n",
            "Digite a nota 4 do aluno 2:9\n",
            "Digite a nota 1 do aluno 3:3\n",
            "Digite a nota 2 do aluno 3:4\n",
            "Digite a nota 3 do aluno 3:5\n",
            "Digite a nota 4 do aluno 3:3\n",
            "Digite a nota 1 do aluno 4:2\n",
            "Digite a nota 2 do aluno 4:3\n",
            "Digite a nota 3 do aluno 4:5\n",
            "Digite a nota 4 do aluno 4:7\n",
            "Digite a nota 1 do aluno 5:2\n",
            "Digite a nota 2 do aluno 5:9\n",
            "Digite a nota 3 do aluno 5:2\n",
            "Digite a nota 4 do aluno 5:10\n",
            "Digite a nota 1 do aluno 6:4\n",
            "Digite a nota 2 do aluno 6:7\n",
            "Digite a nota 3 do aluno 6:8\n",
            "Digite a nota 4 do aluno 6:9\n",
            "Digite a nota 1 do aluno 7:9\n",
            "Digite a nota 2 do aluno 7:5\n",
            "Digite a nota 3 do aluno 7:5\n",
            "Digite a nota 4 do aluno 7:5\n",
            "Digite a nota 1 do aluno 8:6\n",
            "Digite a nota 2 do aluno 8:6\n",
            "Digite a nota 3 do aluno 8:7\n",
            "Digite a nota 4 do aluno 8:4\n",
            "Digite a nota 1 do aluno 9:9\n",
            "Digite a nota 2 do aluno 9:3\n",
            "Digite a nota 3 do aluno 9:3\n",
            "Digite a nota 4 do aluno 9:5\n",
            "Digite a nota 1 do aluno 10:6\n",
            "Digite a nota 2 do aluno 10:7\n",
            "Digite a nota 3 do aluno 10:7\n",
            "Digite a nota 4 do aluno 10:8\n",
            "\n",
            "A média dos alunos foi:\n",
            "Aluno 1: 6.0\n",
            "Aluno 2: 6.0\n",
            "Aluno 3: 3.75\n",
            "Aluno 4: 4.25\n",
            "Aluno 5: 5.75\n",
            "Aluno 6: 7.0\n",
            "Aluno 7: 6.0\n",
            "Aluno 8: 5.75\n",
            "Aluno 9: 5.0\n",
            "Aluno 10: 7.0\n",
            "\n",
            "2 alunos tiveram média maior ou igual a 7.\n"
          ]
        }
      ]
    }
  ]
}